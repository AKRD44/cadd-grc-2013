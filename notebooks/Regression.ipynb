{
 "metadata": {
  "name": "Regression"
 },
 "nbformat": 3,
 "nbformat_minor": 0,
 "worksheets": [
  {
   "cells": [
    {
     "cell_type": "markdown",
     "metadata": {},
     "source": [
      "Suppose we have some data that we believe has a linear trend in some property, such as activity."
     ]
    },
    {
     "cell_type": "code",
     "collapsed": false,
     "input": [
      "# Generate a dataset with some linear correlation and random error.\n",
      "def dataset():\n",
      "    from numpy import random\n",
      "    nsamples = 100\n",
      "    slope = 2.\n",
      "    intercept = 1.\n",
      "    x_n = random.standard_normal([nsamples])\n",
      "    noise = 0.8 * random.standard_normal([nsamples])\n",
      "    y_n = slope * x_n + intercept + noise\n",
      "    return (x_n, y_n)"
     ],
     "language": "python",
     "metadata": {},
     "outputs": [],
     "prompt_number": 18
    },
    {
     "cell_type": "code",
     "collapsed": false,
     "input": [
      "from pylab import *\n",
      "(x_n, y_n) = dataset()\n",
      "plot(x_n, y_n, 'k.')\n",
      "xlabel('x'); ylabel('y');"
     ],
     "language": "python",
     "metadata": {},
     "outputs": [
      {
       "output_type": "pyout",
       "prompt_number": 20,
       "text": [
        "<matplotlib.text.Text at 0x107783690>"
       ]
      },
      {
       "output_type": "display_data",
       "png": "[encoded data removed]",
       "text": [
        "<matplotlib.figure.Figure at 0x107682bd0>"
       ]
      }
     ],
     "prompt_number": 20
    },
    {
     "cell_type": "code",
     "collapsed": false,
     "input": [
      "Finding the best linear model to describe "
     ],
     "language": "python",
     "metadata": {},
     "outputs": [
      {
       "output_type": "stream",
       "stream": "stdout",
       "text": [
        "[ 99.75657018]\n"
       ]
      }
     ],
     "prompt_number": 6
    },
    {
     "cell_type": "code",
     "collapsed": false,
     "input": [],
     "language": "python",
     "metadata": {},
     "outputs": []
    }
   ],
   "metadata": {}
  }
 ]
}