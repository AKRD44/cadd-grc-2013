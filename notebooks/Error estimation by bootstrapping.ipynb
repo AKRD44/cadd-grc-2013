{
 "metadata": {
  "name": "Error estimation by bootstrapping"
 },
 "nbformat": 3,
 "nbformat_minor": 0,
 "worksheets": [
  {
   "cells": [
    {
     "cell_type": "heading",
     "level": 1,
     "metadata": {},
     "source": [
      "Error analysis by bootstrapping"
     ]
    },
    {
     "cell_type": "markdown",
     "metadata": {},
     "source": [
      "Suppose we have a dataset $x_i$, $i = 1,\\ldots,N$."
     ]
    },
    {
     "cell_type": "code",
     "collapsed": false,
     "input": [
      "import numpy\n",
      "from numpy.random import beta\n",
      "a = 8; b = 2; nsamples = 10;\n",
      "x_i = beta(a, b, size=[nsamples]);"
     ],
     "language": "python",
     "metadata": {},
     "outputs": [],
     "prompt_number": 1
    },
    {
     "cell_type": "markdown",
     "metadata": {},
     "source": [
      "Suppose we have some function of all of these measurements $f(\\{x_i\\})$ that may be quite complex.\n",
      "For example, let's pick\n",
      "$$f(\\{x_i\\}) = \\log \\sum_{i=1}^N e^{x_i}$$"
     ]
    },
    {
     "cell_type": "code",
     "collapsed": false,
     "input": [
      "def f(x_i):\n",
      "    from numpy import log, exp, sum\n",
      "    return log(sum(exp(x_i)))"
     ],
     "language": "python",
     "metadata": {},
     "outputs": [],
     "prompt_number": 2
    },
    {
     "cell_type": "code",
     "collapsed": false,
     "input": [
      "f(x_i)"
     ],
     "language": "python",
     "metadata": {},
     "outputs": [
      {
       "output_type": "pyout",
       "prompt_number": 3,
       "text": [
        "3.0846148559469371"
       ]
      }
     ],
     "prompt_number": 3
    },
    {
     "cell_type": "code",
     "collapsed": false,
     "input": [
      "def bootstrap_uncertainty(f, x_i, nreplicates=10000):\n",
      "    \"Compute the bootstrapped uncertainty of a function f(...) of a dataset x_i.\"\n",
      "    from numpy.random import choice\n",
      "    f_n = numpy.zeros([nreplicates], numpy.float64) \n",
      "    N = x_i.size\n",
      "    for replicate in range(nreplicates):\n",
      "        # Generate sample with replacement.\n",
      "        indices = choice(arange(N), [N], replace=True)\n",
      "        x_sample = x_i[indices]\n",
      "        # Compute function on bootstrapped sample.\n",
      "        f_n[replicate] = f(x_sample)\n",
      "    return f_n"
     ],
     "language": "python",
     "metadata": {},
     "outputs": [],
     "prompt_number": 4
    },
    {
     "cell_type": "markdown",
     "metadata": {},
     "source": [
      "We can then plot the distribution of function values."
     ]
    },
    {
     "cell_type": "code",
     "collapsed": false,
     "input": [
      "# Compute uncertainty distribution of f by bootstrap.\n",
      "f_n = bootstrap_uncertainty(f, x_i)\n",
      "\n",
      "# Plot uncertainty distribution of f.\n",
      "nbins = 40;\n",
      "hist(f_n,nbins);\n",
      "xlabel('f');\n",
      "ylabel('p(f)');\n",
      "gca().axes.get_yaxis().set_ticks([]); # turn off y ticks\n",
      "\n",
      "# Label plot with mean and standard error.\n",
      "F = f_n.mean();\n",
      "dF = f_n.std();\n",
      "title('F = %.2f $\\pm$ %.2f' % (F, dF));"
     ],
     "language": "python",
     "metadata": {},
     "outputs": [
      {
       "output_type": "display_data",
       "png": "[encoded data removed]",
       "text": [
        "<matplotlib.figure.Figure at 0x106414a10>"
       ]
      }
     ],
     "prompt_number": 5
    },
    {
     "cell_type": "heading",
     "level": 2,
     "metadata": {},
     "source": [
      "Referenes and further reading"
     ]
    },
    {
     "cell_type": "markdown",
     "metadata": {},
     "source": [
      "* Bootstrapping page on Wikipedia: http://en.wikipedia.org/wiki/Bootstrapping_(statistics) "
     ]
    },
    {
     "cell_type": "code",
     "collapsed": false,
     "input": [],
     "language": "python",
     "metadata": {},
     "outputs": [],
     "prompt_number": 5
    }
   ],
   "metadata": {}
  }
 ]
}