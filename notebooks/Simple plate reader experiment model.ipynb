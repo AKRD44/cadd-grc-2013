{
 "metadata": {
  "name": "Simple plate reader experiment model"
 },
 "nbformat": 3,
 "nbformat_minor": 0,
 "worksheets": [
  {
   "cells": [
    {
     "cell_type": "markdown",
     "metadata": {},
     "source": [
      "Suppose we conduct a very simple plate reader experiment.\n",
      "\n",
      "The protocol is as follows:\n",
      "    \n",
      "* A volume $V_0$ = 2 $\\mu$L of compound at concentration $C_0$ is pipetted into a well on a 384-well plate.\n",
      "\n",
      "* A volume $V_1$ = 18 $\\mu$L of enzyme mix at concentration $C_1$ is then pipetted into the well.\n",
      "\n",
      "* After an incubation period, the fluorescence $F$ is read by a plate reader."
     ]
    },
    {
     "cell_type": "markdown",
     "metadata": {},
     "source": [
      "Let's consider some typical errors for these operations.\n",
      "\n",
      "The [pipetting accuracy specs for a Beckman Biomek FX workstation Span-8](https://www.beckmancoulter.com/wsrportal/bibliography?docname=BR-10149B.pdf) list the precision of a 2 $\\mu$L volume transfer as ~7%, while the precision of an 18 $\\mu$L transfer is ~5%.  In the absence of any bias, we could describe the actual volumes dispensed, $V'_0$ and $V'_1$, by normal distributions\n",
      "\n",
      "* $V'_0 \\sim N(V_0, \\sigma_0^2)$ ; $\\sigma_0 = 2(0.07) = 0.14$ $\\mu$L\n",
      "\n",
      "* $V'_1 \\sim N(V_1, \\sigma_1^2)$ ; $\\sigma_1 = 18(0.05) = 0.9$ $\\mu$L\n",
      "\n",
      "Suppose the complex of enzyme and ligand is the fluorescent species, and has concentration $C_{EL}$.\n",
      "If the ligand binds with simple 1:1 association and has dissociation constant $K_d$, then the concetration of the bound species satisfies the relationship \n",
      "$$K_d = \\frac{C_L \\cdot C_E}{C_{EL}}$$\n",
      "with the constraints that the total amount of ligand and enzyme in the well has to be conserved:\n",
      "$$(C_L + C_{EL}) V' = V'_0 C_0$$\n",
      "$$(C_E + C_{EL}) V' = V'_1 C_1$$\n",
      "$$V' = V'_0 + V'_1$$\n",
      "Rearranging, we can solve for $C_{EL}$:\n",
      "$$K_d C_{EL} = [V'_0 C_0 / V' - C_{EL}] [V'_1 C_1 / V' - C_{EL}] $$\n",
      "$$K_d C_{EL} = V'_0 C_0 V'_1 C_1 / (V'^2) - C_{EL} [ (V'_0 C_0 + V'_1 C_1)/V' ] + C_{EL}^2$$\n",
      "$$C_{EL}^2 -[ K_d + (V'_0 C_0 + V'_1 C_1)/V'] C_{EL} + V'_0 C_0 V'_1 C_1 / (V'^2) = 0$$\n",
      "$$C_{EL} = 0.5 * \\left\\{ [ K_d + (V'_0 C_0 + V'_1 C_1)/V'] \\pm \\sqrt{[ K_d + (V'_0 C_0 + V'_1 C_1)/V']^2 - 4 V'_0 C_0 V'_1 C_1 / (V'^2)} \\right\\}$$"
     ]
    },
    {
     "cell_type": "markdown",
     "metadata": {},
     "source": [
      "Let's pick some reasonable values for these physical constants"
     ]
    },
    {
     "cell_type": "code",
     "collapsed": false,
     "input": [
      "V0 = 2.0e-6 # L, desired dispense volume is 2 uL compound\n",
      "V1 = 18.0e-6 # L, desired dispense volume is 18 uL enzyme\n",
      "sigma0 = 0.07 * V0 # L, absolute precision of compound dispense\n",
      "sigma1 = 0.05 * V0 # L, absolute precision of enzyme dispense\n",
      "Kd = 100.0e-6 # M, dissociation constant of compound and enzyme\n",
      "C0 = 10e-3 # M, compound stock concentration\n",
      "C1 = 10e-6 # M, enzyme assay mix concentration\n",
      "sigmaF = 1000 * 2.0e-12 # M, fluorescence sensitivity; assume 1000x worse than fluorescein"
     ],
     "language": "python",
     "metadata": {},
     "outputs": [],
     "prompt_number": 66
    },
    {
     "cell_type": "code",
     "collapsed": false,
     "input": [
      "import scipy\n",
      "import scipy.optimize\n",
      "def simple_association(x, V0, V1):\n",
      "    \"Returns equilibrium concentrations [L], [E], and [LE].\"\n",
      "    y = [Kd - x[0]*x[1]/x[2], (x[0] + x[2])*(V0+V1) - V0*C0, (x[1] + x[2])*(V0+V1) - V1*C1]\n",
      "    return y\n",
      "V = V0 + V1\n",
      "x0 = scipy.optimize.fsolve(simple_association, [C0*V0/V, C1*V1/V, C1/1000.], args=(V0,V1))\n",
      "print x0 / [C0, C1, C1]"
     ],
     "language": "python",
     "metadata": {},
     "outputs": [
      {
       "output_type": "stream",
       "stream": "stdout",
       "text": [
        "[ 0.09918243  0.08243084  0.81756916]\n"
       ]
      }
     ],
     "prompt_number": 67
    },
    {
     "cell_type": "code",
     "collapsed": false,
     "input": [
      "def simple_association(V0, C0, V1, C1, Kd):\n",
      "    \"Returns equilibrium concentrations [L], [M], and [ML].\"\n",
      "    V = V0 + V1 # total assay volume\n",
      "    a = 1.\n",
      "    b = -(Kd + (V0*C0+V1*C1)/V)\n",
      "    c = (V0*C0*V1*C1)/(V**2)    \n",
      "    C_ML = (-b + numpy.sqrt(b**2 - 4*a*c))/(2*a)\n",
      "    C_L = C0*V0/V - C_ML\n",
      "    C_M = C1*V1/V - C_ML\n",
      "    return (C_L, C_M, C_ML)"
     ],
     "language": "python",
     "metadata": {},
     "outputs": [],
     "prompt_number": 83
    },
    {
     "cell_type": "code",
     "collapsed": false,
     "input": [
      "def competitive_inhibition(substrate_concentration, inhibitor_concentration, enzyme_concentration, Ki, Km):\n",
      "      V0_over_Vmax = substrate_concentration / (Km*(1 + inhibitor_concentration/Ki) + substrate_concentration)\n",
      "      return V0_over_Vmax"
     ],
     "language": "python",
     "metadata": {},
     "outputs": [],
     "prompt_number": 84
    },
    {
     "cell_type": "code",
     "collapsed": false,
     "input": [
      "nreplicates = 10000\n",
      "import numpy\n",
      "import numpy.random\n",
      "C_EL_replicates = numpy.zeros([nreplicates], numpy.float64)\n",
      "F_replicates = numpy.zeros([nreplicates], numpy.float64)\n",
      "for replicate in range(nreplicates):\n",
      "    V0prime = V0 + sigma0 * numpy.random.standard_normal()\n",
      "    V1prime = V1 + sigma1 * numpy.random.standard_normal()\n",
      "    #[C_L, C_E, C_EL] = scipy.optimize.fsolve(simple_association, [C0*V0/V, C1*V1/V, C1/1000.], args=(V0prime,V1prime))\n",
      "    [C_L, C_E, C_EL] = simple_association(V0prime, C0, V1prime, C1, Kd)\n",
      "    C_EL_replicates[replicate] = C_EL\n",
      "    V = V0prime + V1prime # total assay volume\n",
      "    F_replicates[replicate] = V*C_EL + sigmaF * numpy.random.standard_normal()"
     ],
     "language": "python",
     "metadata": {},
     "outputs": [],
     "prompt_number": 88
    },
    {
     "cell_type": "code",
     "collapsed": false,
     "input": [
      "from pylab import *\n",
      "nbins = 40\n",
      "hist(C_EL_replicates, nbins);"
     ],
     "language": "python",
     "metadata": {},
     "outputs": [
      {
       "output_type": "display_data",
       "png": "[encoded data removed]",
       "text": [
        "<matplotlib.figure.Figure at 0x108a36790>"
       ]
      }
     ],
     "prompt_number": 89
    },
    {
     "cell_type": "code",
     "collapsed": false,
     "input": [
      "hist(F_replicates, nbins);"
     ],
     "language": "python",
     "metadata": {},
     "outputs": [
      {
       "output_type": "display_data",
       "png": "[encoded data removed]",
       "text": [
        "<matplotlib.figure.Figure at 0x108dbc310>"
       ]
      }
     ],
     "prompt_number": 90
    },
    {
     "cell_type": "code",
     "collapsed": false,
     "input": [],
     "language": "python",
     "metadata": {},
     "outputs": [],
     "prompt_number": 90
    },
    {
     "cell_type": "code",
     "collapsed": false,
     "input": [],
     "language": "python",
     "metadata": {},
     "outputs": [],
     "prompt_number": 90
    },
    {
     "cell_type": "code",
     "collapsed": false,
     "input": [],
     "language": "python",
     "metadata": {},
     "outputs": []
    }
   ],
   "metadata": {}
  }
 ]
}