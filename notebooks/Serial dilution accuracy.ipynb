{
 "metadata": {
  "name": "Serial dilution accuracy"
 },
 "nbformat": 3,
 "nbformat_minor": 0,
 "worksheets": [
  {
   "cells": [
    {
     "cell_type": "heading",
     "level": 1,
     "metadata": {},
     "source": [
      "Modeling a serial dilution experiment on different dispensing hardware"
     ]
    },
    {
     "cell_type": "markdown",
     "metadata": {},
     "source": [
      "A recent paper by Elkins et al. [Dispensing Processes Impact Apparent Biological Activity as Determined by Computational and Statistical Analyses. PLoS ONE 8(5): e62325, 2013], a large discrepany was observed in IC50 assay values in which either a LabCyte Echo acoustic dispensing unit or a Tecan Genesis liquid handling workstation were used in performing the assays.  This discrepancy may be due to any number of factors, but one of the main features of the Echo is its direct dispensing technology that allows a dilution series over several orders of magnitude in concetration to be created *directly* without the need for serial dilution.  Could the observed discrepancy be explained by the difference in the accuracy with which a serial dilution can be created by these two technologies?  A little modeling of the experiment can quickly find out!"
     ]
    },
    {
     "cell_type": "code",
     "collapsed": false,
     "input": [
      "import numpy\n",
      "from matplotlib import pyplot"
     ],
     "language": "python",
     "metadata": {},
     "outputs": [],
     "prompt_number": 1
    },
    {
     "cell_type": "markdown",
     "metadata": {},
     "source": [
      "Let's model how a liquid-handling robot creates a dilution series for a compound via serial dilution.  An ideal dilution series has no error in transferred volumes and ensures complete mixing between dilution steps."
     ]
    },
    {
     "cell_type": "code",
     "collapsed": false,
     "input": [
      "def dilution_series(V0, C0, Vtransfer, Vbuffer, ndilutions):\n",
      "    import numpy\n",
      "    from numpy.random import normal\n",
      "    ideal_concentrations = numpy.zeros([ndilutions], numpy.float64)\n",
      "    ideal_volumes = numpy.zeros([ndilutions], numpy.float64)\n",
      "    ideal_concentrations[0] = C0\n",
      "    ideal_volumes[0] = V0\n",
      "    for n in range(1,ndilutions):\n",
      "        ideal_concentrations[n] = ideal_concentrations[n-1] * Vtransfer / (Vtransfer + Vbuffer)\n",
      "        ideal_volumes[n] = Vtransfer + Vbuffer\n",
      "        ideal_volumes[n-1] -= Vtransfer\n",
      "    ideal_volumes[ndilutions-1] -= Vtransfer\n",
      "    return [ideal_volumes, ideal_concentrations]"
     ],
     "language": "python",
     "metadata": {},
     "outputs": [],
     "prompt_number": 2
    },
    {
     "cell_type": "markdown",
     "metadata": {},
     "source": [
      "Let's consider a 12-point 2x dilution series, where we start with 10 mM compound stocks."
     ]
    },
    {
     "cell_type": "code",
     "collapsed": false,
     "input": [
      "ndilutions = 12 # number of points in dilution series (including original concentration)\n",
      "V0 = 100e-6 # 100 uL final volume in each well\n",
      "#C0 = 10e-3 * 0.05 # 10 mM initial DMSO stock diluted to 5% DMSO\n",
      "C0 = 10e-3 # 10 mM initial DMSO stock\n",
      "Vtransfer = 50e-6 # 50 uL transfer from previous dilution or stock\n",
      "Vbuffer = 50e-6 # 50 uL buffer\n",
      "[ideal_volumes, ideal_concentrations] = dilution_series(V0, C0, Vtransfer, Vbuffer, ndilutions)\n",
      "pyplot.plot(range(ndilutions), ideal_concentrations, 'ko');\n",
      "pyplot.xlabel('dilution number');\n",
      "pyplot.ylabel('concentration (M)');\n",
      "pyplot.axis([-0.5, ndilutions, 0.0, C0*1.05]);"
     ],
     "language": "python",
     "metadata": {},
     "outputs": [
      {
       "output_type": "display_data",
       "png": "[encoded data removed]",
       "text": [
        "<matplotlib.figure.Figure at 0x108017c90>"
       ]
      }
     ],
     "prompt_number": 3
    },
    {
     "cell_type": "markdown",
     "metadata": {},
     "source": [
      "Real liquid-handling robots can't transfer the specified volume exactly.  Each transfer operation has some inaccuracy (modeled as a constant bias factor for all dispensing operations) and imprecision (random error associated with each volume transfer).  We'll ignore other contributions to error, such as compound stickiness, insolubility, etc."
     ]
    },
    {
     "cell_type": "code",
     "collapsed": false,
     "input": [
      "def biomek_dilution_series(V0, C0, Vtransfer, Vbuffer, ndilutions, inaccuracy, imprecision):\n",
      "    from numpy.random import normal\n",
      "    actual_concentrations = numpy.zeros([ndilutions], numpy.float64)\n",
      "    actual_volumes = numpy.zeros([ndilutions], numpy.float64)\n",
      "    actual_concentrations[0] = C0\n",
      "    actual_volumes[0] = V0\n",
      "    bias = inaccuracy * normal()\n",
      "    for n in range(1,ndilutions):\n",
      "        Vtransfer_actual = Vtransfer * ((1+bias) + imprecision*normal())\n",
      "        Vbuffer_actual = Vbuffer * ((1+bias) + imprecision*normal())\n",
      "        actual_concentrations[n] = actual_concentrations[n-1] * Vtransfer_actual / (Vtransfer_actual + Vbuffer_actual)\n",
      "        actual_volumes[n] = Vtransfer_actual + Vbuffer_actual\n",
      "        actual_volumes[n-1] -= Vtransfer_actual\n",
      "    Vtransfer_actual = Vtransfer * ((1+bias) + imprecision*normal())\n",
      "    actual_volumes[ndilutions-1] -= Vtransfer_actual\n",
      "    return [actual_volumes, actual_concentrations]"
     ],
     "language": "python",
     "metadata": {},
     "outputs": [],
     "prompt_number": 4
    },
    {
     "cell_type": "markdown",
     "metadata": {},
     "source": [
      "Suppose we generate this dilution series using a Beckman Biomek robot (3% inaccuracy, 5% imprecision at 50 uL transfer volumes):"
     ]
    },
    {
     "cell_type": "code",
     "collapsed": false,
     "input": [
      "# Biomek NX or FX specs\n",
      "inaccuracy = 0.03 # 3% inaccuracy\n",
      "imprecision = 0.05 # 5% imprecision\n",
      "[actual_volumes, actual_concentrations] = biomek_dilution_series(V0, C0, Vtransfer, Vbuffer, ndilutions, inaccuracy, imprecision)\n",
      "print actual_volumes\n",
      "print actual_concentrations"
     ],
     "language": "python",
     "metadata": {},
     "outputs": [
      {
       "output_type": "stream",
       "stream": "stdout",
       "text": [
        "[  4.99349937e-05   4.65317941e-05   5.03059317e-05   4.85236202e-05\n",
        "   5.00696852e-05   4.69166579e-05   5.35174751e-05   5.02484782e-05\n",
        "   5.24560819e-05   5.06706732e-05   4.90262724e-05   5.37326287e-05]\n",
        "[  1.00000000e-02   5.03961067e-03   2.63218430e-03   1.38927544e-03\n",
        "   6.58585704e-04   3.38014318e-04   1.68780821e-04   8.34486579e-05\n",
        "   4.19931224e-05   2.06567779e-05   1.01544612e-05   5.12933455e-06]\n"
       ]
      }
     ],
     "prompt_number": 5
    },
    {
     "cell_type": "markdown",
     "metadata": {},
     "source": [
      "Let's plot the relative errors in concentration, volume, and total quantity of compound per well generated in this particular replicate of the dilution series:"
     ]
    },
    {
     "cell_type": "code",
     "collapsed": false,
     "input": [
      "pyplot.hold(True)\n",
      "pyplot.plot([0, ndilutions], [1, 1], 'k-')\n",
      "pyplot.plot(range(ndilutions), actual_concentrations / ideal_concentrations, 'r.', range(ndilutions), actual_volumes / ideal_volumes, 'g.', range(ndilutions), (actual_volumes*actual_concentrations)/(ideal_volumes*ideal_concentrations), 'b.')\n",
      "pyplot.legend(['exact', 'concentration', 'volume', 'quantity'], loc='lower right')\n",
      "pyplot.axis([0, ndilutions, 0, 1.5])\n",
      "pyplot.ylabel('relative error')\n",
      "pyplot.xlabel('dilution number')\n",
      "pyplot.show()"
     ],
     "language": "python",
     "metadata": {},
     "outputs": [
      {
       "output_type": "display_data",
       "png": "[encoded data removed]",
       "text": [
        "<matplotlib.figure.Figure at 0x10843e490>"
       ]
      }
     ],
     "prompt_number": 6
    },
    {
     "cell_type": "markdown",
     "metadata": {},
     "source": [
      "If we now dispense 2 uL of diluted compound into an assay plate well into which 10 uL of enzyme mix has been dispensed, there is additional error since the imprecision at this volume is higher."
     ]
    },
    {
     "cell_type": "code",
     "collapsed": false,
     "input": [
      "compound_volume = 2.0e-6 # 2 uL \n",
      "mix_volume = 10.0e-6 # 10 uL\n",
      "small_volume_inaccuracy = 0.03 # Biomek, ~1 uL dispense\n",
      "small_volume_imprecision = 0.07 # Biomek, ~1 uL dispense\n",
      "def biomek_dispense(compound_volume, mix_volume, compound_concentrations, small_volume_inaccuracy, small_volume_imprecision):\n",
      "    from numpy.random import normal\n",
      "    assay_volume = numpy.zeros([ndilutions], numpy.float64)\n",
      "    assay_compound_concentration = numpy.zeros([ndilutions], numpy.float64)\n",
      "    bias = inaccuracy * normal()\n",
      "    for i in range(ndilutions):\n",
      "        compound_volume_dispensed = compound_volume * ((1+bias) + imprecision*normal())\n",
      "        mix_volume_dispensed = mix_volume\n",
      "        assay_volume[i] = compound_volume_dispensed + mix_volume_dispensed\n",
      "        assay_compound_concentration[i] = compound_concentrations[i] * compound_volume_dispensed / assay_volume[i]\n",
      "\n",
      "    return [assay_volume, assay_compound_concentration]\n",
      "\n",
      "[assay_volumes, assay_compound_concentrations] = biomek_dispense(compound_volume, mix_volume, actual_concentrations, inaccuracy, imprecision)\n",
      "\n",
      "pyplot.clf()\n",
      "pyplot.plot([0,ndilutions], [1, 1], 'k-', range(ndilutions), assay_volumes / (compound_volume+mix_volume), 'r.', range(ndilutions), assay_compound_concentrations / (ideal_concentrations*compound_volume/(compound_volume+mix_volume)), 'g.')\n",
      "pyplot.legend(['exact', 'assay well volume rel err', 'concentration rel err'], loc='upper right')\n",
      "pyplot.xlabel('dilution number')\n",
      "pyplot.ylabel('relative error')\n",
      "pyplot.show()"
     ],
     "language": "python",
     "metadata": {},
     "outputs": [
      {
       "output_type": "display_data",
       "png": "[encoded data removed]",
       "text": [
        "<matplotlib.figure.Figure at 0x108038750>"
       ]
      }
     ],
     "prompt_number": 7
    },
    {
     "cell_type": "markdown",
     "metadata": {},
     "source": [
      "Let's suppose the 10 uL of assay mix in each well was dispensed completely accurately, and contains exact concentrations of enzyme and substrate.  We presume inhibition is measured by an exact read of the reaction V0/Vmax.  The IC50 would be the interpolated point at which V0/Vmax drops to 0.5, as determined from a fit of the competitive inhibition equations to the observed V0/Vmax for the dilution series, using the *ideal* dilution series concentrations in the fit.  Let's assume the true Ki is 10 nM, with Km of 1.71 uM (the Km for ATP by EphB4).  Note that we're assuming that EphB4 obeys Michaelis-Menten kinetics here, and that V0/Vmax is what is measured."
     ]
    },
    {
     "cell_type": "code",
     "collapsed": false,
     "input": [
      "def competitive_inhibition(substrate_concentration, inhibitor_concentration, enzyme_concentration, Ki, Km):\n",
      "    V0_over_Vmax = substrate_concentration / (Km*(1 + inhibitor_concentration/Ki) + substrate_concentration)\n",
      "    return V0_over_Vmax\n",
      "\n",
      "substrate_concentration = 4e-6 # 4 mM ATP\n",
      "enzyme_concentration = 6e-6 # 0.25 ng of ~42.4 kDa enzyme = ~6 uM\n",
      "true_Ki = 10e-9 # 10 nM\n",
      "Km = 1.71e-6 # ATP Km from http://www.proqinase.com/kinase-database/pdfs/2843.pdf\n",
      "\n",
      "activity = numpy.zeros([ndilutions], numpy.float64)\n",
      "for i in range(ndilutions):\n",
      "    activity[i] = competitive_inhibition(substrate_concentration, assay_compound_concentrations[i], enzyme_concentration, true_Ki, Km)\n",
      "\n",
      "pyplot.clf()\n",
      "pyplot.semilogx(ideal_concentrations, activity, 'r.')\n",
      "pyplot.xlabel('ideal [I] (M)')\n",
      "pyplot.ylabel('V0/Vmax')\n",
      "pyplot.show()"
     ],
     "language": "python",
     "metadata": {},
     "outputs": [
      {
       "output_type": "display_data",
       "png": "[encoded data removed]",
       "text": [
        "<matplotlib.figure.Figure at 0x108033250>"
       ]
      }
     ],
     "prompt_number": 8
    },
    {
     "cell_type": "markdown",
     "metadata": {},
     "source": [
      "What does this look like if we run many assay replicates?"
     ]
    },
    {
     "cell_type": "code",
     "collapsed": false,
     "input": [
      "nreplicates = 1000\n",
      "activity = numpy.zeros([nreplicates,ndilutions], numpy.float64)\n",
      "for replicate in range(nreplicates):\n",
      "    [actual_volumes, actual_concentrations] = biomek_dilution_series(V0, C0, Vtransfer, Vbuffer, ndilutions, inaccuracy, imprecision)\n",
      "    [assay_volumes, assay_compound_concentrations] = biomek_dispense(compound_volume, mix_volume, actual_concentrations, small_volume_inaccuracy, small_volume_imprecision)\n",
      "    for i in range(ndilutions):\n",
      "        activity[replicate,i] = competitive_inhibition(substrate_concentration, assay_compound_concentrations[i], enzyme_concentration, true_Ki, Km)\n",
      "\n",
      "pyplot.clf()\n",
      "pyplot.semilogx(ideal_concentrations, activity.transpose(), 'r-')\n",
      "pyplot.xlabel('ideal [I] (M)')\n",
      "pyplot.ylabel('V0/Vmax')\n",
      "pyplot.show()"
     ],
     "language": "python",
     "metadata": {},
     "outputs": [
      {
       "output_type": "display_data",
       "png": "[encoded data removed]",
       "text": [
        "<matplotlib.figure.Figure at 0x108618550>"
       ]
      }
     ],
     "prompt_number": 9
    },
    {
     "cell_type": "markdown",
     "metadata": {},
     "source": [
      "It's not hard to see that the IC50 will vary over a large range!  Let's fit the IC50s to see."
     ]
    },
    {
     "cell_type": "code",
     "collapsed": false,
     "input": [
      "def fit_ic50(inhibitor_concentrations, activities):\n",
      "    import numpy, scipy\n",
      "    def objective(inhibitor_concentrations, Ki):\n",
      "        activities = numpy.zeros([ndilutions], numpy.float64)\n",
      "        for i in range(ndilutions):\n",
      "            activities[i] = competitive_inhibition(substrate_concentration, inhibitor_concentrations[i], enzyme_concentration, Ki, Km)\n",
      "        return activities\n",
      "            \n",
      "    Ki_guess = true_Ki\n",
      "    import scipy.optimize\n",
      "    [popt, pcov] = scipy.optimize.curve_fit(objective, inhibitor_concentrations, activities, p0=[Ki_guess])\n",
      "    \n",
      "    return popt[0]\n",
      "\n",
      "IC50s_tips = numpy.zeros([nreplicates], numpy.float64)\n",
      "for replicate in range(nreplicates):\n",
      "    IC50s_tips[replicate] = fit_ic50(ideal_concentrations, activity[replicate,:])\n",
      "\n",
      "pylab.clf()\n",
      "nhist = 40\n",
      "pylab.hist(numpy.log10(IC50s_tips), nhist)\n",
      "pylab.xlabel('log IC50 (M)')\n",
      "pylab.ylabel('P(IC50)')\n",
      "pylab.show()"
     ],
     "language": "python",
     "metadata": {},
     "outputs": [
      {
       "output_type": "display_data",
       "png": "[encoded data removed]",
       "text": [
        "<matplotlib.figure.Figure at 0x10848de50>"
       ]
      }
     ],
     "prompt_number": "*"
    },
    {
     "cell_type": "markdown",
     "metadata": {},
     "source": [
      "The error won't be uniform across the whole Ki range, however.  Let's characterize the standard error as a function of Ki."
     ]
    },
    {
     "cell_type": "code",
     "collapsed": false,
     "input": [
      "def biomek_IC50_error(true_Ki):\n",
      "    nreplicates = 1000\n",
      "    IC50s = numpy.zeros([nreplicates], numpy.float64)\n",
      "    for replicate in range(nreplicates):\n",
      "        [actual_volumes, actual_concentrations] = biomek_dilution_series(V0, C0, Vtransfer, Vbuffer, ndilutions, inaccuracy, imprecision)\n",
      "        [assay_volumes, assay_compound_concentrations] = biomek_dispense(compound_volume, mix_volume, actual_concentrations, small_volume_inaccuracy, small_volume_imprecision)\n",
      "        activities = numpy.zeros([ndilutions], numpy.float64)\n",
      "        for i in range(ndilutions):\n",
      "            activities[i] = competitive_inhibition(substrate_concentration, assay_compound_concentrations[i], enzyme_concentration, true_Ki, Km)\n",
      "        IC50s[replicate] = fit_ic50(ideal_concentrations, activities)\n",
      "    return IC50s.std()\n",
      "\n",
      "Kis = numpy.array([1e-12, 1e-11, 1e-10, 1e-9, 1e-8, 1e-7, 1e-6, 1e-5, 1e-4, 1e-3])\n",
      "nKis = len(Kis)\n",
      "biomek_errors = numpy.zeros([nKis], numpy.float64)\n",
      "for (i, Ki) in enumerate(Kis):\n",
      "    biomek_errors[i] = biomek_IC50_error(Ki)\n",
      "\n",
      "biomek_relative_errors = biomek_errors / Kis\n",
      "print biomek_relative_errors"
     ],
     "language": "python",
     "metadata": {},
     "outputs": [],
     "prompt_number": "*"
    },
    {
     "cell_type": "code",
     "collapsed": false,
     "input": [
      "pyplot.clf()\n",
      "pyplot.semilogx(Kis, biomek_relative_errors, 'k.')\n",
      "pyplot.xlabel('log Ki')\n",
      "pyplot.ylabel('relative error in IC50')\n",
      "pyplot.show()"
     ],
     "language": "python",
     "metadata": {},
     "outputs": [],
     "prompt_number": "*"
    },
    {
     "cell_type": "markdown",
     "metadata": {},
     "source": [
      "It's easier to judge the size of the error in log10 units."
     ]
    },
    {
     "cell_type": "code",
     "collapsed": false,
     "input": [
      "biomek_logIC50_errors = biomek_errors / (Kis * numpy.log(10))\n",
      "pyplot.clf()\n",
      "pyplot.semilogx(Kis, biomek_logIC50_errors, 'k.')\n",
      "pyplot.xlabel('log Ki')\n",
      "pyplot.ylabel('log IC50 error')\n",
      "pyplot.show()"
     ],
     "language": "python",
     "metadata": {},
     "outputs": [],
     "prompt_number": "*"
    },
    {
     "cell_type": "markdown",
     "metadata": {},
     "source": [
      "What about the LabCyte Echo experiments?  According to LabCyte, the Echo has an inaccuracy of 10% and a precision of 8% over the entire dispense range of 2.5 nL to 10 uL.  Let's model how it dispenses directly into the assay plate with an 9-point dilution series spanning 2.5 nL to 120 nL from 10 mM stock solution."
     ]
    },
    {
     "cell_type": "code",
     "collapsed": false,
     "input": [
      "def echo_assay_dispense(C0, mix_volume, backfill_volume, ideal_dispense_volumes):\n",
      "    echo_volume_inaccuracy = 0.10 # http://www.labcyte.com/sites/default/files/support_docs/Echo%205XX%20Specifications.pdf\n",
      "    echo_volume_imprecision = 0.08 \n",
      "    from numpy.random import normal\n",
      "    ndilutions = len(ideal_dispense_volumes)\n",
      "    assay_volume = numpy.zeros([ndilutions], numpy.float64)\n",
      "    assay_compound_concentration = numpy.zeros([ndilutions], numpy.float64)\n",
      "    bias = inaccuracy * normal()\n",
      "    for i in range(ndilutions):\n",
      "        compound_volume_intended = ideal_dispense_volumes[i]\n",
      "        backfill_volume_intended = backfill_volume - compound_volume_intended\n",
      "        \n",
      "        compound_volume_dispensed = compound_volume_intended * ((1+bias) + imprecision*normal())\n",
      "        backfill_volume_dispensed = backfill_volume_intended * ((1+bias) + imprecision*normal())\n",
      "        \n",
      "        assay_volume[i] = mix_volume + backfill_volume_dispensed + compound_volume_dispensed\n",
      "        assay_compound_concentration[i] = C0 * compound_volume_dispensed / assay_volume[i]\n",
      "\n",
      "    return [assay_volume, assay_compound_concentration]\n",
      "\n",
      "C0 = 10e-3 # 10 mM stock solution\n",
      "ideal_assay_volume = 12e-6 # 12 uL\n",
      "#ideal_dispense_volumes = 2.5e-9 * numpy.array([1, 6, 12, 18, 24, 30, 36, 42, 48]) # 9-point titration, multiples of 2.5 nL\n",
      "ideal_dispense_volumes = 2.5e-9 * numpy.array([4, 12, 16, 20, 24, 28, 32, 36, 40, 44, 48]) # 12-point titration, multiples of 2.5 nL\n",
      "ideal_compound_concentrations = (C0*ideal_dispense_volumes/ideal_assay_volume)\n",
      "ndilutions = len(ideal_dispense_volumes)\n",
      "backfill_volume = 120e-9 # backfill with DMSO to 120 nL after dispensing compound\n",
      "mix_volume = ideal_assay_volume - backfill_volume # 12 uL assay volume (minus 120 uL)\n",
      "[assay_volumes, assay_compound_concentrations] = echo_assay_dispense(C0, mix_volume, backfill_volume, ideal_dispense_volumes)\n",
      "\n",
      "pyplot.clf()\n",
      "pyplot.plot([0,ndilutions], [1, 1], 'k-', range(ndilutions), assay_volumes/ideal_assay_volume, 'r.', range(ndilutions), assay_compound_concentrations / ideal_compound_concentrations, 'g.')\n",
      "pyplot.legend(['exact', 'assay well volume rel err', 'concentration rel err'], loc='lower right')\n",
      "pyplot.show()"
     ],
     "language": "python",
     "metadata": {},
     "outputs": [],
     "prompt_number": "*"
    },
    {
     "cell_type": "markdown",
     "metadata": {},
     "source": [
      "How does a competitive inhibition look with the narrow dynamic range afforded by the LabCyte Echo?"
     ]
    },
    {
     "cell_type": "code",
     "collapsed": false,
     "input": [
      "activity = numpy.zeros([ndilutions], numpy.float64)\n",
      "for i in range(ndilutions):\n",
      "    activity[i] = competitive_inhibition(substrate_concentration, assay_compound_concentrations[i], enzyme_concentration, true_Ki, Km)\n",
      "\n",
      "pyplot.clf()\n",
      "pyplot.semilogx(ideal_compound_concentrations, activity, 'r.')\n",
      "pyplot.xlabel('ideal [I] (M)')\n",
      "pyplot.ylabel('V0/Vmax')\n",
      "pyplot.show()"
     ],
     "language": "python",
     "metadata": {},
     "outputs": [],
     "prompt_number": "*"
    },
    {
     "cell_type": "markdown",
     "metadata": {},
     "source": [
      "V0 only goes up to a maximum of 0.012, but we can still see some curvature that could give a decent fit to Michaelis-Menten for an IC50.  Let's try a number of replicates to see how much variation there is between measurements."
     ]
    },
    {
     "cell_type": "code",
     "collapsed": false,
     "input": [
      "activity = numpy.zeros([nreplicates,ndilutions], numpy.float64)\n",
      "for replicate in range(nreplicates):\n",
      "    [assay_volumes, assay_compound_concentrations] = echo_assay_dispense(C0, mix_volume, backfill_volume, ideal_dispense_volumes)\n",
      "    for i in range(ndilutions):\n",
      "        activity[replicate,i] = competitive_inhibition(substrate_concentration, assay_compound_concentrations[i], enzyme_concentration, true_Ki, Km)\n",
      "\n",
      "pyplot.clf()\n",
      "pyplot.semilogx(ideal_compound_concentrations, activity.transpose(), 'r-')\n",
      "pyplot.xlabel('ideal [I] (M)')\n",
      "pyplot.ylabel('V0/Vmax')\n",
      "pyplot.show()"
     ],
     "language": "python",
     "metadata": {},
     "outputs": [],
     "prompt_number": "*"
    },
    {
     "cell_type": "markdown",
     "metadata": {},
     "source": [
      "Transforming this into IC50s, we see there is a fair amount of error."
     ]
    },
    {
     "cell_type": "code",
     "collapsed": false,
     "input": [
      "IC50s_echo = numpy.zeros([nreplicates], numpy.float64)\n",
      "for replicate in range(nreplicates):\n",
      "    IC50s_echo[replicate] = fit_ic50(ideal_compound_concentrations, activity[replicate,:])\n",
      "\n",
      "pylab.clf()\n",
      "nhist = 40\n",
      "pylab.hist(numpy.log10(IC50s_echo), nhist)\n",
      "pylab.xlabel('log IC50 (M)')\n",
      "pylab.ylabel('P(IC50)')\n",
      "pylab.show()"
     ],
     "language": "python",
     "metadata": {},
     "outputs": [],
     "prompt_number": "*"
    },
    {
     "cell_type": "markdown",
     "metadata": {},
     "source": [
      "Let's characterize the error for the Echo assay as a function of Ki."
     ]
    },
    {
     "cell_type": "code",
     "collapsed": false,
     "input": [
      "def echo_IC50_error(true_Ki):\n",
      "    nreplicates = 1000\n",
      "    IC50s = numpy.zeros([nreplicates], numpy.float64)\n",
      "    for replicate in range(nreplicates):\n",
      "        [assay_volumes, assay_compound_concentrations] = echo_assay_dispense(C0, mix_volume, backfill_volume, ideal_dispense_volumes)\n",
      "        activities = numpy.zeros([ndilutions], numpy.float64)\n",
      "        for i in range(ndilutions):\n",
      "            activities[i] = competitive_inhibition(substrate_concentration, assay_compound_concentrations[i], enzyme_concentration, true_Ki, Km)\n",
      "        IC50s[replicate] = fit_ic50(ideal_compound_concentrations, activities)\n",
      "    IC50_errors = IC50s - true_Ki\n",
      "    return IC50_errors.std()\n",
      "\n",
      "Kis = numpy.array([1e-12, 1e-11, 1e-10, 1e-9, 1e-8, 1e-7, 1e-6, 1e-5, 1e-4, 1e-3])\n",
      "nKis = len(Kis)\n",
      "echo_errors  = numpy.zeros([nKis], numpy.float64)\n",
      "for (i, Ki) in enumerate(Kis):\n",
      "    echo_errors[i] = echo_IC50_error(Ki)\n",
      "     \n",
      "echo_relative_errors = echo_errors / Kis\n",
      "print echo_relative_errors"
     ],
     "language": "python",
     "metadata": {},
     "outputs": [],
     "prompt_number": "*"
    },
    {
     "cell_type": "code",
     "collapsed": false,
     "input": [
      "pyplot.clf()\n",
      "pyplot.semilogx(Kis, echo_relative_errors, 'k.')\n",
      "pyplot.xlabel('log Ki')\n",
      "pyplot.ylabel('relative error in IC50')\n",
      "pyplot.show()"
     ],
     "language": "python",
     "metadata": {},
     "outputs": [],
     "prompt_number": "*"
    },
    {
     "cell_type": "markdown",
     "metadata": {},
     "source": [
      "What do we get when we plot the tips and Echo results against each other?"
     ]
    },
    {
     "cell_type": "code",
     "collapsed": false,
     "input": [
      "echo_logIC50_errors = echo_errors / (Kis * numpy.log(10))\n",
      "pyplot.clf()\n",
      "pyplot.semilogx(Kis, echo_logIC50_errors, '.')\n",
      "pyplot.xlabel('log Ki')\n",
      "pyplot.ylabel('log IC50 error')\n",
      "pyplot.show()"
     ],
     "language": "python",
     "metadata": {},
     "outputs": [],
     "prompt_number": "*"
    },
    {
     "cell_type": "code",
     "collapsed": false,
     "input": [
      "# data from Fig 1 of Fregau et al.\n",
      "echo_IC50s = numpy.array([0.064, 0.486, 0.003, 0.002, 0.007, 0.003, 0.004, 0.052, 0.01362, 0.207, 0.158, 0.01164, 0.00633, 0.00358]) * 1e-6 # M\n",
      "biomek_IC50s = numpy.array([0.817, 3.03, 0.146, 0.553, 0.973, 0.778, 0.445, 0.17, 0.112, 14.4, 0.25, 0.049, 0.087, 0.152]) * 1e-6 # M\n",
      "\n",
      "# Compute errors.\n",
      "ndata = len(echo_IC50s)\n",
      "echo_IC50s_error = 0 * echo_IC50s\n",
      "biomek_IC50s_error = 0 * biomek_IC50s\n",
      "for i in range(ndata):\n",
      "    echo_IC50s_error[i] = echo_IC50_error(echo_IC50s[i])\n",
      "    biomek_IC50s_error[i] = biomek_IC50_error(biomek_IC50s[i])"
     ],
     "language": "python",
     "metadata": {},
     "outputs": [],
     "prompt_number": "*"
    },
    {
     "cell_type": "code",
     "collapsed": false,
     "input": [
      "log10_echo_IC50s = numpy.log10(echo_IC50s)\n",
      "log10_biomek_IC50s = numpy.log10(biomek_IC50s)\n",
      "\n",
      "log10_echo_IC50s_error = echo_IC50s_error / (echo_IC50s * numpy.log(10.0))\n",
      "log10_biomek_IC50s_error = biomek_IC50s_error / (biomek_IC50s * numpy.log(10.0))\n",
      "\n",
      "pylab.clf()\n",
      "pylab.hold(True)\n",
      "pylab.plot([-9, -4], [-9, -4], 'k-')\n",
      "pylab.errorbar(log10_echo_IC50s, log10_biomek_IC50s, xerr=2*log10_echo_IC50s_error, yerr=2*log10_biomek_IC50s_error, fmt='r.')\n",
      "pylab.plot([-9, -6], [-9, -6], 'k-')\n",
      "pylab.axis('equal')\n",
      "pylab.xlabel('log IC50-acoustic')\n",
      "pylab.ylabel('log IC50-tips')\n",
      "pylab.show()"
     ],
     "language": "python",
     "metadata": {},
     "outputs": [],
     "prompt_number": "*"
    },
    {
     "cell_type": "heading",
     "level": 1,
     "metadata": {},
     "source": [
      "References and further reading"
     ]
    },
    {
     "cell_type": "markdown",
     "metadata": {},
     "source": [
      "* Ekins S, Olechno J, Williams AJ (2013) Dispensing Processes Impact Apparent Biological Activity as Determined by Computational and Statistical Analyses. PLoS ONE 8(5): e62325. [doi:10.1371/journal.pone.0062325](http://dx.doi.org/10.1371/journal.pone.0062325)"
     ]
    },
    {
     "cell_type": "code",
     "collapsed": false,
     "input": [],
     "language": "python",
     "metadata": {},
     "outputs": [],
     "prompt_number": "*"
    }
   ],
   "metadata": {}
  }
 ]
}