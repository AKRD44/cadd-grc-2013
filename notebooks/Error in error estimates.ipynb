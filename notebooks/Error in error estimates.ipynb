{
 "metadata": {
  "name": "Error in error estimates"
 },
 "nbformat": 3,
 "nbformat_minor": 0,
 "worksheets": [
  {
   "cells": [
    {
     "cell_type": "markdown",
     "metadata": {},
     "source": [
      "What is the error in the estimate of standard error?\n",
      "\n",
      "From [this technical note](http://web.eecs.umich.edu/~fessler/papers/files/tr/stderr.pdf), the relative error in the standard error estimate $\\hat{\\epsilon}$ from a sample of $N$ replicates can be estimated (in the large $N$ limit) as\n",
      "$$\\frac{\\delta \\hat{\\epsilon}}{\\hat{\\epsilon}} = \\frac{1}{\\sqrt{2(N-1)}}$$\n",
      "\n",
      "    "
     ]
    },
    {
     "cell_type": "code",
     "collapsed": false,
     "input": [
      "from numpy import array\n",
      "Nmax = 20\n",
      "N = array(range(2,Nmax))\n",
      "from pylab import plot, xlabel, ylabel, axis\n",
      "from numpy import sqrt\n",
      "plot(N, 1.0 / sqrt(2 * (N-1)), 'k.')\n",
      "xlabel('number of replicates'); ylabel('relative error in $\\hat{\\epsilon}}$');\n",
      "axis([0, Nmax, 0, 1]);"
     ],
     "language": "python",
     "metadata": {},
     "outputs": [
      {
       "output_type": "display_data",
       "png": "[encoded data removed]",
       "text": [
        "<matplotlib.figure.Figure at 0x106e1ba50>"
       ]
      }
     ],
     "prompt_number": 1
    },
    {
     "cell_type": "markdown",
     "metadata": {},
     "source": [
      "With only three replicates, the error is uncertain by ~50%!  That means only the order of magnitude of the uncertainty is known!\n",
      "\n",
      "Even with 20 replicates, the uncertainty in the quoted standard error is still close to 20%!\n",
      "\n",
      "This is why one should not report more than **one significant digit** in the error.  Reporting additional digits will lead to confusion about the certiainty in the error estimate."
     ]
    },
    {
     "cell_type": "code",
     "collapsed": false,
     "input": [],
     "language": "python",
     "metadata": {},
     "outputs": [],
     "prompt_number": 1
    }
   ],
   "metadata": {}
  }
 ]
}