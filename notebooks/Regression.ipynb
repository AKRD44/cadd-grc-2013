{
 "metadata": {
  "name": "Regression"
 },
 "nbformat": 3,
 "nbformat_minor": 0,
 "worksheets": [
  {
   "cells": [
    {
     "cell_type": "heading",
     "level": 1,
     "metadata": {},
     "source": [
      "Regression, coefficients of determination, and generalized R-squared"
     ]
    },
    {
     "cell_type": "markdown",
     "metadata": {},
     "source": [
      "Suppose we have some data that we believe has a linear trend in some property, such as activity or another physical property.\n",
      "We use $x$ and $y$ for now."
     ]
    },
    {
     "cell_type": "code",
     "collapsed": false,
     "input": [
      "# Generate a dataset with some linear correlation and random error.\n",
      "def dataset():\n",
      "    from numpy import random\n",
      "    nsamples = 100\n",
      "    slope = 2.\n",
      "    intercept = 1.\n",
      "    x = random.standard_normal([nsamples])\n",
      "    noise = 0.8 * random.standard_normal([nsamples])\n",
      "    y = slope * x + intercept + noise\n",
      "    return (x, y)"
     ],
     "language": "python",
     "metadata": {},
     "outputs": [],
     "prompt_number": 1
    },
    {
     "cell_type": "code",
     "collapsed": false,
     "input": [
      "# Plot the dataset.\n",
      "from pylab import *\n",
      "(x, y) = dataset()\n",
      "plot(x, y, 'k.');\n",
      "xlabel('x'); ylabel('y');\n",
      "axis([-3,+3,-6,+6]);"
     ],
     "language": "python",
     "metadata": {},
     "outputs": [
      {
       "output_type": "display_data",
       "png": "[encoded data removed]",
       "text": [
        "<matplotlib.figure.Figure at 0x105b4ddd0>"
       ]
      }
     ],
     "prompt_number": 2
    },
    {
     "cell_type": "heading",
     "level": 2,
     "metadata": {},
     "source": [
      "Linear regression"
     ]
    },
    {
     "cell_type": "markdown",
     "metadata": {},
     "source": [
      "Finding the best linear model to describe the data if we do not have error bars or the data error is uniform (not always a good assumption!) is straightforward.  `scipy` has tools for this, but we write out the expression for clarity.\n",
      "\n",
      "We fit the linear function\n",
      "$$y' = \\alpha + \\beta \\cdot x$$\n",
      "where the parameters $\\alpha$ and $\\beta$ can be estimated as\n",
      "$$\\beta = \\frac{\\mathrm{cov}(x,y)}{\\mathrm{var}(x)}$$\n",
      "$$\\alpha = \\mathrm{mean}(y) - \\beta \\cdot \\mathrm{mean} (x)$$"
     ]
    },
    {
     "cell_type": "code",
     "collapsed": false,
     "input": [
      "# regress using y' = alpha + beta * x\n",
      "from numpy import mean, var, cov\n",
      "beta = cov(x,y)[0,1] / var(x)\n",
      "alpha = mean(y) - beta * mean(x)\n",
      "yprime = alpha + beta * x"
     ],
     "language": "python",
     "metadata": {},
     "outputs": [],
     "prompt_number": 3
    },
    {
     "cell_type": "code",
     "collapsed": false,
     "input": [
      "# Plot the data and our linear regression to the data.\n",
      "plot(x, y, 'k.', [-6, +6], alpha + beta * numpy.array([-6,+6]), 'r-');\n",
      "xlabel('x'); ylabel('y');\n",
      "axis([-3,+3,-6,+6]);"
     ],
     "language": "python",
     "metadata": {},
     "outputs": [
      {
       "output_type": "display_data",
       "png": "[encoded data removed]",
       "text": [
        "<matplotlib.figure.Figure at 0x105b6d9d0>"
       ]
      }
     ],
     "prompt_number": 4
    },
    {
     "cell_type": "heading",
     "level": 2,
     "metadata": {},
     "source": [
      "Coefficient of determination ($R^2$)"
     ]
    },
    {
     "cell_type": "markdown",
     "metadata": {},
     "source": [
      "We can compute the *coefficient of determination* ($R^2$), several different ways:"
     ]
    },
    {
     "cell_type": "markdown",
     "metadata": {},
     "source": [
      "$R^2$ can be computed from the *sample correlation coefficient*,\n",
      "$$r_{xy} \\equiv \\frac{\\beta}{s_y / s_x}$$\n",
      "$$R^2 = r_{xy}^2$$\n",
      "where $s_x$ and $s_y$ are the sample standard deviations of $x$ and $y$, respectively."
     ]
    },
    {
     "cell_type": "code",
     "collapsed": false,
     "input": [
      "# Compute R^2 from square of sample correlation coefficient\n",
      "from numpy import std\n",
      "r_xy = beta / (std(y) / std(x)) # sample correlation coefficient\n",
      "R2 = r_xy**2\n",
      "print \"R^2 from square of sample correlation coefficient = %.3f\" % R2"
     ],
     "language": "python",
     "metadata": {},
     "outputs": [
      {
       "output_type": "stream",
       "stream": "stdout",
       "text": [
        "R^2 from square of sample correlation coefficient = 0.910\n"
       ]
      }
     ],
     "prompt_number": 5
    },
    {
     "cell_type": "code",
     "collapsed": false,
     "input": [],
     "language": "python",
     "metadata": {},
     "outputs": [],
     "prompt_number": 5
    },
    {
     "cell_type": "code",
     "collapsed": false,
     "input": [
      "# Compute R^2 from squared sum of residuals\n",
      "from numpy import sum, mean\n",
      "R2 = 1 - sum((yprime-y)**2) / sum((y-mean(y))**2)\n",
      "print \"R^2 from residuals = %.3f\" % R2"
     ],
     "language": "python",
     "metadata": {},
     "outputs": [
      {
       "output_type": "stream",
       "stream": "stdout",
       "text": [
        "R^2 from residuals = 0.892\n"
       ]
      }
     ],
     "prompt_number": 6
    },
    {
     "cell_type": "code",
     "collapsed": false,
     "input": [
      "# Squared sum of residuals is also proportional to the sample variance.\n",
      "R2 = 1 - (yprime-y).var() / (y-mean(y)).var()\n",
      "print \"R^2 from residuals = %.3f\" % R2"
     ],
     "language": "python",
     "metadata": {},
     "outputs": [
      {
       "output_type": "stream",
       "stream": "stdout",
       "text": [
        "R^2 from residuals = 0.892\n"
       ]
      }
     ],
     "prompt_number": 7
    },
    {
     "cell_type": "heading",
     "level": 2,
     "metadata": {},
     "source": [
      "Uncertainty in $R^2$"
     ]
    },
    {
     "cell_type": "markdown",
     "metadata": {},
     "source": [
      "Because the dataset is finite in size, and may span only a small range in $x$ or $y$, there may be considerable uncertainty in $R^2$, and it may appear to be good or bad for spurious statistical reasons.\n",
      "\n",
      "In principle, there are asymptotic statistical approaches we can use to estimate the uncertainty in $R^2$, but it turns out that we can instead very easily **estimate the uncertainty in R^2 by bootstrapping**."
     ]
    },
    {
     "cell_type": "code",
     "collapsed": false,
     "input": [
      "# Define a linear regression function.\n",
      "def linear_regression(x, y):\n",
      "    beta = cov(x,y)[0,1] / var(x)\n",
      "    alpha = mean(y) - beta * mean(x)\n",
      "    yprime = alpha + beta * x\n",
      "    R2 = 1 - sum((yprime-y)**2) / sum((y-mean(y))**2)\n",
      "    return [alpha, beta, yprime, R2]    \n",
      "\n",
      "# We estimate the uncertainty in R^2 by bootstrapping\n",
      "from numpy import arange\n",
      "from numpy.random import choice\n",
      "ntrials = 1000\n",
      "nsamples = x.size\n",
      "R2_n = numpy.zeros([ntrials], numpy.float64)\n",
      "for trial in range(ntrials):\n",
      "    # Generate sample with replacement.\n",
      "    indices = choice(arange(nsamples), [nsamples], replace=True)\n",
      "    x_sample = x[indices]\n",
      "    y_sample = y[indices]\n",
      "    # Perform regression on sample.\n",
      "    [alpha_sample, beta_sample, yprime_sample, R2_sample] = linear_regression(x_sample, y_sample)\n",
      "    # Compute R^2 for sample.\n",
      "    R2_n[trial] = R2_sample\n",
      "# Compute uncertainty in R^2.\n",
      "dR2 = R2_n.std()\n",
      "print \"R2 = %.5f +- %.5f\" % (R2, dR2)"
     ],
     "language": "python",
     "metadata": {},
     "outputs": [
      {
       "output_type": "stream",
       "stream": "stdout",
       "text": [
        "R2 = 0.89151 +- 0.02026\n"
       ]
      }
     ],
     "prompt_number": 8
    },
    {
     "cell_type": "heading",
     "level": 2,
     "metadata": {},
     "source": [
      "Likelihood formulation of regression and generalized coefficient of determination"
     ]
    },
    {
     "cell_type": "markdown",
     "metadata": {},
     "source": [
      "The coefficient of determination ($R^2$) can be generalized beyond simple linear regression to arbitrary likelihood-based regression schemes [Nagelkerke, 1991]:\n",
      "$$R_{CS}^2 = 1 - \\left( \\frac{L(0)}{L(\\hat{\\theta})}\\right)^{2/N}$$\n",
      "where $L(\\hat{\\theta})$ is the likelihood of the maximum-likelihood fit model, and $L(0)$ is the *null model* assuming all the data is just at the mean of the data\n",
      "$$\\bar{y} = \\frac{1}{N} \\sum_{n=1}^N y_i$$\n",
      "\n",
      "To see why this is an appropriate generalization, we first recast the regression problem in terms of a likelihood maximization problem.\n",
      "\n",
      "First, we assume that the distribution governing the observed data given the underlying model parameter $\\theta$ is in fact described by a Gaussian of some function of the parameters:\n",
      "$$p(y | x) = (2 \\pi \\sigma^2)^{-1/2} \\exp\\left[-\\frac{(y - \\hat{y}(x))^2}{2 \\sigma^2}\\right]$$\n",
      "The total likelihood of the data is therefore given by\n",
      "$$L(\\theta) = \\prod_{i=1}^N (2 \\pi \\sigma^2)^{-1/2} \\exp\\left[-\\frac{(y_i - \\hat{y}(x_i))^2}{2 \\sigma^2}\\right] = (2 \\pi \\sigma^2)^{-N/2} \\exp\\left[-\\sum_{i=1}^N \\frac{(y_i - \\hat{y}(x_i))^2}{2 \\sigma^2}\\right] = (2 \\pi \\sigma^2)^{-N/2} \\exp\\left[-\\frac{N}{2 \\sigma^2} \\frac{1}{N}\\sum_{i=1}^N (y_i - \\hat{y}(x_i))^2\\right] = (2 \\pi \\sigma^2)^{-N/2} e^{-N \\hat{\\sigma}_r^2/ 2 \\sigma^2}$$\n",
      "where $\\sigma_r^2$ is the sample variance of the residuals:\n",
      "$$\\hat{\\sigma}_r^2 = \\frac{1}{N}\\sum_{i=1}^N (y_i - \\hat{y}(x_i))^2$$    \n",
      "\n",
      "If we don't know the data error $\\sigma$ beforehand, but *choose* $\\sigma = \\hat{\\sigma}$ after performing the regression or maximum-likelihood fitting, then this has a particularly simple form:\n",
      "$$L(\\hat{\\theta}) = (2 \\pi \\sigma^2)^{-N/2} e^{-N/2}$$\n",
      "\n",
      "For this null model, we have a similar result,\n",
      "$$L(0) = (2 \\pi \\sigma^2)^{-N/2} e^{-N/2}$$\n",
      "where $\\hat{\\sigma}$ is the sample standard deviation\n",
      "$$\\hat{\\sigma} = \\frac{1}{N} \\sum_{n=1}^N (y_i - \\bar{y})^2$$\n",
      "\n",
      "This gives for $R^2$,\n",
      "$$R_{CS}^2 = 1 - \\left( \\frac{(2 \\pi \\sigma^2)^{-N/2} e^{-N/2}}{(2 \\pi \\sigma^2)^{-N/2} e^{-N/2}}\\right)^{2/N} = \\left( \\frac{\\hat{\\sigma}_r^2}{\\hat{\\sigma}^2} \\right) = R^2$$\n",
      "which is the expected $R^2$ from linear regression."
     ]
    },
    {
     "cell_type": "heading",
     "level": 2,
     "metadata": {},
     "source": [
      "Regression with non-uniform data error"
     ]
    },
    {
     "cell_type": "markdown",
     "metadata": {},
     "source": [
      "The regression problem can be generalized to the case where each measurement $y_i$ has a corresponding uncertainty $\\sigma_i$.\n",
      "\n",
      "The likelihood is then\n",
      "$$L(\\theta) = \\prod_{i=1}^N (2 \\pi \\sigma_i^2)^{-1/2} \\exp\\left[-\\frac{(y_i - \\hat{y}(x_i))^2}{2 \\sigma_i^2}\\right]$$\n",
      "It is generally easier to maximize the *log-likelihood* instead:\n",
      "$$l(\\theta) = \\sum_{i=1}^N \\left[ -\\frac{1}{2} \\log \\left(2 \\pi \\sigma_i^2\\right) -\\frac{(y_i - \\hat{y}(x_i))^2}{2 \\sigma_i^2}\\right] = -\\frac{N}{2} \\log(2 \\pi) + \\sum_{i=1}^N \\left[ -\\log \\sigma_i^2 -\\frac{(y_i - \\hat{y}(x_i))^2}{2 \\sigma_i^2}\\right]$$\n",
      "To find the maximum likelihood estimate $\\hat{\\theta}$, we use the derivatives:\n",
      "$$\\frac{\\partial}{\\partial \\theta} l(\\theta) = \\sum_{i=1}^N \\frac{(y_i - \\hat{y}(x_i))}{\\sigma_i^2} \\left.\\frac{\\partial \\hat{y}}{\\partial \\theta}\\right|_{x_i} $$\n",
      "\n",
      "For linear regression, we have\n",
      "$$\\hat{y}(x) = \\alpha + \\beta x$$\n",
      "which gives\n",
      "$$\\frac{\\partial}{\\partial \\alpha} l(\\theta) = \\sum_{i=1}^N \\frac{(y_i - \\alpha - \\beta x_i)}{\\sigma_i^2} $$    \n",
      "$$\\frac{\\partial}{\\partial \\beta} l(\\theta) = \\sum_{i=1}^N \\frac{(y_i - \\alpha - \\beta x_i)}{\\sigma_i^2} x_i $$    \n"
     ]
    },
    {
     "cell_type": "markdown",
     "metadata": {},
     "source": [
      "**[still in progress]**"
     ]
    },
    {
     "cell_type": "markdown",
     "metadata": {},
     "source": []
    },
    {
     "cell_type": "heading",
     "level": 2,
     "metadata": {},
     "source": [
      "Fitting numeric and categorical data simultaneously"
     ]
    },
    {
     "cell_type": "markdown",
     "metadata": {},
     "source": [
      "\n",
      "This allows us to quantify how well a model fits even when some of the data may no longer be numeric (e.g. \"the $K_d$ is 42 $nM$\") but categorical (e.g. \"the $K_d$ is greater than 1 $\\mu$M\")."
     ]
    },
    {
     "cell_type": "heading",
     "level": 1,
     "metadata": {},
     "source": [
      "References and further reading"
     ]
    },
    {
     "cell_type": "markdown",
     "metadata": {},
     "source": [
      "* Nagelkerke, N. J. D. (1991). \"A Note on a General Definition of the Coefficient of Determination\". Biometrika 78 (3): 691\u20132. [doi:10.1093/biomet/78.3.691](http://dx.doi.org/10.1093/biomet/78.3.691)"
     ]
    },
    {
     "cell_type": "code",
     "collapsed": false,
     "input": [],
     "language": "python",
     "metadata": {},
     "outputs": [],
     "prompt_number": 8
    }
   ],
   "metadata": {}
  }
 ]
}