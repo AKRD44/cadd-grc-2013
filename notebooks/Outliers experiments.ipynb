{
 "metadata": {
  "name": "Outliers experiments"
 },
 "nbformat": 3,
 "nbformat_minor": 0,
 "worksheets": [
  {
   "cells": [
    {
     "cell_type": "heading",
     "level": 1,
     "metadata": {},
     "source": [
      "Outlier detection"
     ]
    },
    {
     "cell_type": "heading",
     "level": 2,
     "metadata": {},
     "source": [
      "Outlier detection in empty assay plates exposed to laboratory air"
     ]
    },
    {
     "cell_type": "markdown",
     "metadata": {},
     "source": [
      "A recent [paper](http://dx.doi.org/10.1177/1087057113481621) discovered a surprising source of spurious high fluorescence signals that could have been mistaken as hits in a fluorescence-based HTS assay.  We make use of the Grubbs' test for outlier detection to show there are statistically significant outliers in the dataset."
     ]
    },
    {
     "cell_type": "code",
     "collapsed": false,
     "input": [
      "# Data from Busch et al. Does your lab coat fit to your assay? J Biomol Screen 18:744, 2013.\n",
      "clean_microplate_rfu_text = \"53 62 63 70 77 62 61 58 61 69 70 53 63 82 60 82 63 50 56 61 59 90 66 63 53 40 60 56 70 57 64 64 57 59 73 70 63 59 65 60 67 57 65 46 75 82 83 57 57 56 68 74 66 77 53 44 69 67 60 66 73 67 63 51 62 78 73 44 56 59 62 48 68 47 60 74 75 65 76 60 62 54 65 67 66 58 75 58 54 71 61 61 79 60 74 62 62 55 55 67 66 65 51 51 48 64 82 61 86 78 62 68 59 68 56 55 74 80 61 60 69 64 72 64 63 62 55 53 66 64 89 71 59 65 67 52 67 58 59 60 70 49 74 63 52 60 59 62 71 86 59 55 60 61 76 73 73 68 62 63 71 87 74 66 56 73 82 79 58 72 66 77 86 77 58 64 63 61 73 57 58 57 61 59 55 60 80 52 47 51 68 60 78 75 52 58 87 65 62 66 71 56 66 55 46 57 73 54 80 84 80 54 63 76 58 65 68 70 62 57 50 80 70 68 44 51 65 59 71 77 69 71 68 77 71 64 61 63 44 92 62 63 64 76 57 75 74 55 65 69 62 53 51 72 50 69 65 59 55 65 74 70 69 71 58 65 62 57 54 86 71 61 64 69 63 64 63 50 66 52 44 65 60 60 59 62 64 68 54 48 53 47 59 63 55 55 55 68 53 51 50 73 65 56 80 65 80 63 79 82 57 51 55 60 56 56 61 81 68 60 62 64 59 66 48 75 64 42 68 62 63 55 80 76 60 50 42 67 74 65 53 59 62 71 67 67 63 65 58 48 57 60 53 50 69 67 43 40 46 35 56 54 57 71 60 64 80 76 49 72 62 66 62 60 87 64 72 63 59 67 61 56 58 55\"\n",
      "exposed_microplate_rfu_text = \"53 81 182 58 61 113 69 56 54 63 58 704 66 53 51 60 87 79 87 83 57 56 87 108 63 60 71 63 60 67 69 48 52 38 62 81 54 63 56 57 78 108 64 61 66 68 63 58 69 89 50 67 73 59 56 51 64 51 72 58 269 81 50 59 64 59 54 70 94 55 49 67 66 68 42 91 71 82 63 76 58 50 63 68 60 65 47 60 82 52 75 67 68 61 73 69\"\n",
      "\n",
      "def convert_text_to_numeric(text):\n",
      "    data = [ float(element) for element in text.split() ]\n",
      "    data = numpy.array(data)\n",
      "    return data\n",
      "\n",
      "clean_microplate_rfu = convert_text_to_numeric(clean_microplate_rfu_text)\n",
      "exposed_microplate_rfu = convert_text_to_numeric(exposed_microplate_rfu_text)"
     ],
     "language": "python",
     "metadata": {},
     "outputs": [],
     "prompt_number": 1
    },
    {
     "cell_type": "markdown",
     "metadata": {},
     "source": [
      "The Gribbs' outlier test assumes normality, and tests whether one or more data points may be an outlier at the proposed significance level.  This scheme can be used to sequentially identify (and remove, if desired) outliers in a dataset."
     ]
    },
    {
     "cell_type": "code",
     "collapsed": false,
     "input": [
      "def Grubbs_outlier_test(y_i, alpha=0.95):\n",
      "    \"\"\"\n",
      "    Perform Grubbs' outlier test.\n",
      "    \n",
      "    ARGUMENTS\n",
      "    y_i (list or numpy array) - dataset\n",
      "    alpha (float) - significance cutoff for test\n",
      "\n",
      "    RETURNS\n",
      "    G_i (list) - Grubbs G statistic for each member of the dataset\n",
      "    Gtest (float) - rejection cutoff; hypothesis that no outliers exist if G_i.max() > Gtest\n",
      "    no_outliers (bool) - boolean indicating whether there are no outliers at specified significance level\n",
      "    index (int) - integer index of outlier with maximum G_i    \n",
      "    \"\"\"\n",
      "    s = y_i.std()\n",
      "    G_i = numpy.abs(y_i - y_i.mean()) / s\n",
      "    N = y_i.size\n",
      "    from scipy import stats\n",
      "    t = stats.t.isf(1 - alpha/(2*N), N-2) # Upper critical value of the t-distribution with N \u2212 2 degrees of freedom and a significance level of \u03b1/(2N)\n",
      "    Gtest = (N-1)/numpy.sqrt(N) * numpy.sqrt(t**2 / (N-2+t**2))    \n",
      "    G = G_i.max()\n",
      "    index = G_i.argmax()\n",
      "    no_outliers = (G > Gtest)\n",
      "    return [G_i, Gtest, no_outliers, index]"
     ],
     "language": "python",
     "metadata": {},
     "outputs": [],
     "prompt_number": 2
    },
    {
     "cell_type": "code",
     "collapsed": false,
     "input": [
      "# We will also plot the empirical cumulative distribution function (CDF).\n",
      "def plot_empirical_cdf(data):\n",
      "    sorted = numpy.sort(data)\n",
      "    clf();\n",
      "    plot(sorted, numpy.arange( len(sorted)*1.0)/len(sorted) );"
     ],
     "language": "python",
     "metadata": {},
     "outputs": [],
     "prompt_number": 3
    },
    {
     "cell_type": "markdown",
     "metadata": {},
     "source": [
      "We first test the data read for a clean microplate that has been freshly removed from its packaging."
     ]
    },
    {
     "cell_type": "code",
     "collapsed": false,
     "input": [
      "plot_empirical_cdf(clean_microplate_rfu);\n",
      "[G_i, Gtest, no_outliers, index] = Grubbs_outlier_test(clean_microplate_rfu)\n",
      "title(\"G = %.3f | Gtest = %.3f\" % (G_i.max(), Gtest));"
     ],
     "language": "python",
     "metadata": {},
     "outputs": [
      {
       "output_type": "display_data",
       "png": "[encoded data removed]",
       "text": [
        "<matplotlib.figure.Figure at 0x10596d850>"
       ]
      }
     ],
     "prompt_number": 4
    },
    {
     "cell_type": "markdown",
     "metadata": {},
     "source": [
      "Next, we test a plate that has been exposed to laboratory air for two minutes before reading fluorescence."
     ]
    },
    {
     "cell_type": "code",
     "collapsed": false,
     "input": [
      "plot_empirical_cdf(exposed_microplate_rfu);\n",
      "[G_i, Gtest, no_outliers, index] = Grubbs_outlier_test(exposed_microplate_rfu)\n",
      "title(\"G = %.3f | Gtest = %.3f\" % (G_i.max(), Gtest));"
     ],
     "language": "python",
     "metadata": {},
     "outputs": [
      {
       "output_type": "display_data",
       "png": "[encoded data removed]",
       "text": [
        "<matplotlib.figure.Figure at 0x10596d2d0>"
       ]
      }
     ],
     "prompt_number": 5
    },
    {
     "cell_type": "code",
     "collapsed": false,
     "input": [],
     "language": "python",
     "metadata": {},
     "outputs": [],
     "prompt_number": 5
    },
    {
     "cell_type": "code",
     "collapsed": false,
     "input": [],
     "language": "python",
     "metadata": {},
     "outputs": [],
     "prompt_number": 5
    },
    {
     "cell_type": "code",
     "collapsed": false,
     "input": [],
     "language": "python",
     "metadata": {},
     "outputs": [],
     "prompt_number": 5
    },
    {
     "cell_type": "heading",
     "level": 2,
     "metadata": {},
     "source": [
      "Comparison of PAMPA vs Caco-2 data for a set of compounds"
     ]
    },
    {
     "cell_type": "code",
     "collapsed": false,
     "input": [
      "import numpy\n",
      "# From Table 18.3 of \"High-Throughput Screening Using Caco-2 Cell and PAMPA Systems\" by Li C., Wainhaus S., Uss AS, and Cheng K-C.\n",
      "compounds = ['Ganciclovir', 'Bretylium Tosylate', 'Acyclovir', 'Nadolol', 'Terbutaline', 'Etoposide', 'Metolazone', 'Ketoconazole', 'Methylprednisone', 'Pindolol', 'Propanolol', 'Hydrocortisone', 'Alprenolol', 'Metoprolol', 'Caffeine', 'Carbamazepine', 'Corticosterone', 'Dexamethazone', 'Verapamil']\n",
      "human_absorption = [5, 18, 20, 34, 44, 60, 64, 80, 82, 90, 90, 91, 93, 95, 100, 100, 100, 100, 100] # percent\n",
      "pampa_permeability = [0, 0, 0, 0, 1.9, 26, 60, 1000, 286, 378, 371, 101, 840, 1000, 9.6, 498, 223, 354, 1000] # nm/s"
     ],
     "language": "python",
     "metadata": {},
     "outputs": [],
     "prompt_number": 6
    },
    {
     "cell_type": "code",
     "collapsed": false,
     "input": [
      "from pylab import *\n",
      "import numpy\n",
      "clf();\n",
      "\n",
      "# Set zero permeability to low value of 0.1 nm/s.\n",
      "pampa_permeability = numpy.array(pampa_permeability)\n",
      "pampa_permeability[pampa_permeability==0] = 0.1\n",
      "\n",
      "semilogx(pampa_permeability, human_absorption, 'ko');\n",
      "axis([0,1200,0,105]);\n",
      "xlabel('PAMPA permeability (nm/s)');\n",
      "ylabel('human absorption (%)');"
     ],
     "language": "python",
     "metadata": {},
     "outputs": [
      {
       "output_type": "display_data",
       "png": "[encoded data removed]",
       "text": [
        "<matplotlib.figure.Figure at 0x1058a04d0>"
       ]
      }
     ],
     "prompt_number": 7
    },
    {
     "cell_type": "code",
     "collapsed": false,
     "input": [
      "# From Table 2 (BCS Compound Set data) from Kerns et al. J. Pharm. Sci. 93:1440, 2004.\n",
      "compounds = ['Propanolol', 'Verapamil', 'Hydrochlorothiazide', 'Ranitidine', 'Metoprolol', 'Atenolol', 'Ketoprofen', 'Naproxen', 'Furosemide', 'Amoxicillin', 'Antipyrine', 'Caffeine', 'Theophylline', 'Carbamazepine']\n",
      "#pampa_pH_4 = [0.55, 1.7, 0.001, 0.003, 0.27, 0.10, 14, 17, 0.26, 0.54, 0.67, 1.3, 0.020, 7.0] # PAMPA P_e for pH 4 (1e-6 cm/s)\n",
      "#pampa_pH_7_4 = [12, 14, 0.007, 0.034, 1.2, 0.56, 0.043, 0.23, 0.013, 0.22, 0.82, 1.8, 0.043, 8.1] # PAMPA P_e for pH 7.4 (1e-6 cm/s)\n",
      "pampa_sqrt_Pe = [3.5, 3.7, 0.083, 0.18, 1.1, 0.75, 3.7, 4.1, 0.51, 0.73, 0.91, 1.3, 0.21, 2.9] # from column \"Square Root P_e: PAMPA\"\n",
      "caco2_sqrt_Pe = [1.8, 1.6, 0.86, 0.68, 1.5, 0.00, 4.5, 5.3, 0.29, 0.96, 3.4, 3.5, 3.4, 3.9] # from column \"Square Root P_e: Caco-2\""
     ],
     "language": "python",
     "metadata": {},
     "outputs": [],
     "prompt_number": 8
    },
    {
     "cell_type": "code",
     "collapsed": false,
     "input": [
      "# Plot sqrt P_e for Caco-2 vs PAMPA.\n",
      "# (cf Figure 2)\n",
      "clf();\n",
      "plot(caco2_sqrt_Pe, pampa_sqrt_Pe, 'ko');\n",
      "axis([-0.1, 6, -0.1,5]);\n",
      "xlabel('Square Root PAMPA $P_e$ ($10^{-6}$ cm/s)');\n",
      "ylabel('Square Root Caco-2 $P_e$ ($10^{-6}$ cm/s)');"
     ],
     "language": "python",
     "metadata": {},
     "outputs": [
      {
       "output_type": "display_data",
       "png": "[encoded data removed]",
       "text": [
        "<matplotlib.figure.Figure at 0x1094f0c90>"
       ]
      }
     ],
     "prompt_number": 9
    },
    {
     "cell_type": "code",
     "collapsed": false,
     "input": [
      "# Linear fit to all data.\n",
      "# (cf Figure 3)\n",
      "\n",
      "# Define a linear regression function for yprime = alpha + beta*x.\n",
      "def linear_regression(x, y):\n",
      "    x = numpy.array(x)\n",
      "    y = numpy.array(y)\n",
      "    beta = cov(x,y)[0,1] / var(x)\n",
      "    alpha = mean(y) - beta * mean(x)\n",
      "    yprime = alpha + beta * x\n",
      "    R2 = 1 - sum((yprime-y)**2) / sum((y-mean(y))**2)\n",
      "    return [alpha, beta, yprime, R2]\n",
      "\n",
      "def linear_regression_bootstrap_uncertainty(x, y):\n",
      "    x = numpy.array(x)\n",
      "    y = numpy.array(y)\n",
      "    from numpy import arange\n",
      "    from numpy.random import choice\n",
      "    ntrials = 1000\n",
      "    nsamples = x.size\n",
      "    alpha_n = numpy.zeros([ntrials], numpy.float64)\n",
      "    beta_n = numpy.zeros([ntrials], numpy.float64)\n",
      "    R2_n = numpy.zeros([ntrials], numpy.float64)\n",
      "    for trial in range(ntrials):\n",
      "        # Generate sample with replacement.\n",
      "        indices = choice(arange(nsamples), [nsamples], replace=True)\n",
      "        x_sample = x[indices]\n",
      "        y_sample = y[indices]\n",
      "        # Perform regression on sample.\n",
      "        [alpha_sample, beta_sample, yprime_sample, R2_sample] = linear_regression(x_sample, y_sample)\n",
      "        # Store sample statistics.\n",
      "        alpha_n[trial] = alpha_sample\n",
      "        beta_n[trial] = beta_sample            \n",
      "        R2_n[trial] = R2_sample\n",
      "    # Compute uncertainty in R^2.\n",
      "    dalpha = alpha_n.std()\n",
      "    dbeta = beta_n.std()\n",
      "    dR2 = R2_n.std()\n",
      "    # Return uncertainties.\n",
      "    return [dalpha, dbeta, dR2]\n",
      "\n",
      "# Compute linear regression.\n",
      "[alpha, beta, yprime, R2] = linear_regression(pampa_sqrt_Pe, caco2_sqrt_Pe);\n",
      "# Compute uncertainties by bootstrap.\n",
      "[dalpha, dbeta, dR2] = linear_regression_bootstrap_uncertainty(pampa_sqrt_Pe, caco2_sqrt_Pe);\n",
      "\n",
      "# Plot regression.\n",
      "clf();\n",
      "xmin = -0.1; xmax = 6;\n",
      "ymin = -0.1; ymax = 5;\n",
      "x = numpy.array([xmin, xmax]);\n",
      "\n",
      "plot(caco2_sqrt_Pe, pampa_sqrt_Pe, 'ko', x, alpha+beta*x, 'r-');\n",
      "axis([xmin, xmax, ymin, ymax]);\n",
      "xlabel('Square Root PAMPA $P_e$ ($10^{-6}$ cm/s)');\n",
      "ylabel('Square Root Caco-2 $P_e$ ($10^{-6}$ cm/s)');\n",
      "title('$R^2$ = %.3f$\\pm$%.3f' % (R2, dR2)); "
     ],
     "language": "python",
     "metadata": {},
     "outputs": [
      {
       "output_type": "display_data",
       "png": "[encoded data removed]",
       "text": [
        "<matplotlib.figure.Figure at 0x10596d190>"
       ]
      }
     ],
     "prompt_number": 10
    },
    {
     "cell_type": "code",
     "collapsed": false,
     "input": [
      "# Sequentially identify outliers using Grubbs' test.\n",
      "x = numpy.array(pampa_sqrt_Pe);\n",
      "y = numpy.array(caco2_sqrt_Pe);\n",
      "[alpha, beta, yprime, R2] = linear_regression(x, y);\n",
      "residuals = (y - yprime); # residuals\n",
      "s = residuals.std(); # standard deviation of residuals\n",
      "G_i = numpy.abs(residuals) / s\n",
      "G = G_i.max()\n",
      "N = x.size"
     ],
     "language": "python",
     "metadata": {},
     "outputs": [],
     "prompt_number": 11
    },
    {
     "cell_type": "code",
     "collapsed": false,
     "input": [
      "from scipy import stats\n",
      "alpha = 0.95 # 95% significance cutoff for test\n",
      "t = stats.t.isf(1 - alpha/(2*N), N-2) # Upper critical value of the t-distribution with N \u2212 2 degrees of freedom and a significance level of \u03b1/(2N)\n",
      "Gtest = (N-1)/numpy.sqrt(N) * numpy.sqrt(t**2 / (N-2+t**2))"
     ],
     "language": "python",
     "metadata": {},
     "outputs": [],
     "prompt_number": 12
    },
    {
     "cell_type": "code",
     "collapsed": false,
     "input": [
      "print G > Gtest\n",
      "print G, Gtest"
     ],
     "language": "python",
     "metadata": {},
     "outputs": [
      {
       "output_type": "stream",
       "stream": "stdout",
       "text": [
        "False\n",
        "1.62149140259 1.74153137783\n"
       ]
      }
     ],
     "prompt_number": 13
    },
    {
     "cell_type": "code",
     "collapsed": false,
     "input": [
      "# Imports #\n",
      "from random import random\n",
      "import statsmodels.api as smapi\n",
      "from statsmodels.formula.api import ols\n",
      "import statsmodels.graphics as smgraphics\n",
      "# Make data #\n",
      "x = range(30)\n",
      "y = [y*(10+random())+200 for y in x]\n",
      "# Add outlier #\n",
      "x.insert(6,15)\n",
      "y.insert(6,220)\n",
      "# Make fit #\n",
      "regression = ols(\"data ~ x\", data=dict(data=y, x=x)).fit()\n",
      "# Find outliers #\n",
      "test = regression.outlier_test()\n",
      "outliers = ((x[i],y[i]) for i,t in enumerate(test.icol(2)) if t < 0.5)\n",
      "print 'Outliers: ', list(outliers)\n",
      "# Figure #\n",
      "figure = smgraphics.regressionplots.plot_fit(regression, 1)\n",
      "# Add line #\n",
      "smgraphics.regressionplots.abline_plot(model_results=regression, ax=figure.axes[0])"
     ],
     "language": "python",
     "metadata": {},
     "outputs": [
      {
       "ename": "ImportError",
       "evalue": "No module named formula.api",
       "output_type": "pyerr",
       "traceback": [
        "\u001b[0;31m---------------------------------------------------------------------------\u001b[0m\n\u001b[0;31mImportError\u001b[0m                               Traceback (most recent call last)",
        "\u001b[0;32m<ipython-input-14-9277b119f3de>\u001b[0m in \u001b[0;36m<module>\u001b[0;34m()\u001b[0m\n\u001b[1;32m      2\u001b[0m \u001b[0;32mfrom\u001b[0m \u001b[0mrandom\u001b[0m \u001b[0;32mimport\u001b[0m \u001b[0mrandom\u001b[0m\u001b[0;34m\u001b[0m\u001b[0m\n\u001b[1;32m      3\u001b[0m \u001b[0;32mimport\u001b[0m \u001b[0mstatsmodels\u001b[0m\u001b[0;34m.\u001b[0m\u001b[0mapi\u001b[0m \u001b[0;32mas\u001b[0m \u001b[0msmapi\u001b[0m\u001b[0;34m\u001b[0m\u001b[0m\n\u001b[0;32m----> 4\u001b[0;31m \u001b[0;32mfrom\u001b[0m \u001b[0mstatsmodels\u001b[0m\u001b[0;34m.\u001b[0m\u001b[0mformula\u001b[0m\u001b[0;34m.\u001b[0m\u001b[0mapi\u001b[0m \u001b[0;32mimport\u001b[0m \u001b[0mols\u001b[0m\u001b[0;34m\u001b[0m\u001b[0m\n\u001b[0m\u001b[1;32m      5\u001b[0m \u001b[0;32mimport\u001b[0m \u001b[0mstatsmodels\u001b[0m\u001b[0;34m.\u001b[0m\u001b[0mgraphics\u001b[0m \u001b[0;32mas\u001b[0m \u001b[0msmgraphics\u001b[0m\u001b[0;34m\u001b[0m\u001b[0m\n\u001b[1;32m      6\u001b[0m \u001b[0;31m# Make data #\u001b[0m\u001b[0;34m\u001b[0m\u001b[0;34m\u001b[0m\u001b[0m\n",
        "\u001b[0;31mImportError\u001b[0m: No module named formula.api"
       ]
      }
     ],
     "prompt_number": 14
    },
    {
     "cell_type": "code",
     "collapsed": false,
     "input": [
      "# Imports #\n",
      "import statsmodels.api as smapi\n",
      "import statsmodels.graphics as smgraphics\n",
      "from statsmodels.graphics import regressionplots\n",
      "# Make data #\n",
      "x = range(30)\n",
      "y = [y*10 for y in x]\n",
      "# Add outlier #\n",
      "x.insert(6,15)\n",
      "y.insert(6,220)\n",
      "# Make graph #\n",
      "regression = smapi.OLS(x, y).fit()\n",
      "figure = regressionplots.plot_fit(regression, 0)\n",
      "# Find outliers #\n",
      "test = regression.outlier_test()\n",
      "outliers = ((x[i],y[i]) for i,t in enumerate(test) if t[2] < 0.5)\n",
      "print 'Outliers: ', list(outliers)"
     ],
     "language": "python",
     "metadata": {},
     "outputs": [
      {
       "ename": "AttributeError",
       "evalue": "'OLSResults' object has no attribute 'outlier_test'",
       "output_type": "pyerr",
       "traceback": [
        "\u001b[0;31m---------------------------------------------------------------------------\u001b[0m\n\u001b[0;31mAttributeError\u001b[0m                            Traceback (most recent call last)",
        "\u001b[0;32m<ipython-input-15-55cf83ba986a>\u001b[0m in \u001b[0;36m<module>\u001b[0;34m()\u001b[0m\n\u001b[1;32m     13\u001b[0m \u001b[0mfigure\u001b[0m \u001b[0;34m=\u001b[0m \u001b[0mregressionplots\u001b[0m\u001b[0;34m.\u001b[0m\u001b[0mplot_fit\u001b[0m\u001b[0;34m(\u001b[0m\u001b[0mregression\u001b[0m\u001b[0;34m,\u001b[0m \u001b[0;36m0\u001b[0m\u001b[0;34m)\u001b[0m\u001b[0;34m\u001b[0m\u001b[0m\n\u001b[1;32m     14\u001b[0m \u001b[0;31m# Find outliers #\u001b[0m\u001b[0;34m\u001b[0m\u001b[0;34m\u001b[0m\u001b[0m\n\u001b[0;32m---> 15\u001b[0;31m \u001b[0mtest\u001b[0m \u001b[0;34m=\u001b[0m \u001b[0mregression\u001b[0m\u001b[0;34m.\u001b[0m\u001b[0moutlier_test\u001b[0m\u001b[0;34m(\u001b[0m\u001b[0;34m)\u001b[0m\u001b[0;34m\u001b[0m\u001b[0m\n\u001b[0m\u001b[1;32m     16\u001b[0m \u001b[0moutliers\u001b[0m \u001b[0;34m=\u001b[0m \u001b[0;34m(\u001b[0m\u001b[0;34m(\u001b[0m\u001b[0mx\u001b[0m\u001b[0;34m[\u001b[0m\u001b[0mi\u001b[0m\u001b[0;34m]\u001b[0m\u001b[0;34m,\u001b[0m\u001b[0my\u001b[0m\u001b[0;34m[\u001b[0m\u001b[0mi\u001b[0m\u001b[0;34m]\u001b[0m\u001b[0;34m)\u001b[0m \u001b[0;32mfor\u001b[0m \u001b[0mi\u001b[0m\u001b[0;34m,\u001b[0m\u001b[0mt\u001b[0m \u001b[0;32min\u001b[0m \u001b[0menumerate\u001b[0m\u001b[0;34m(\u001b[0m\u001b[0mtest\u001b[0m\u001b[0;34m)\u001b[0m \u001b[0;32mif\u001b[0m \u001b[0mt\u001b[0m\u001b[0;34m[\u001b[0m\u001b[0;36m2\u001b[0m\u001b[0;34m]\u001b[0m \u001b[0;34m<\u001b[0m \u001b[0;36m0.5\u001b[0m\u001b[0;34m)\u001b[0m\u001b[0;34m\u001b[0m\u001b[0m\n\u001b[1;32m     17\u001b[0m \u001b[0;32mprint\u001b[0m \u001b[0;34m'Outliers: '\u001b[0m\u001b[0;34m,\u001b[0m \u001b[0mlist\u001b[0m\u001b[0;34m(\u001b[0m\u001b[0moutliers\u001b[0m\u001b[0;34m)\u001b[0m\u001b[0;34m\u001b[0m\u001b[0m\n",
        "\u001b[0;32m/Users/choderaj/Library/Enthought/Canopy_64bit/User/lib/python2.7/site-packages/statsmodels/base/wrapper.pyc\u001b[0m in \u001b[0;36m__getattribute__\u001b[0;34m(self, attr)\u001b[0m\n\u001b[1;32m     33\u001b[0m             \u001b[0;32mpass\u001b[0m\u001b[0;34m\u001b[0m\u001b[0m\n\u001b[1;32m     34\u001b[0m \u001b[0;34m\u001b[0m\u001b[0m\n\u001b[0;32m---> 35\u001b[0;31m         \u001b[0mobj\u001b[0m \u001b[0;34m=\u001b[0m \u001b[0mgetattr\u001b[0m\u001b[0;34m(\u001b[0m\u001b[0mresults\u001b[0m\u001b[0;34m,\u001b[0m \u001b[0mattr\u001b[0m\u001b[0;34m)\u001b[0m\u001b[0;34m\u001b[0m\u001b[0m\n\u001b[0m\u001b[1;32m     36\u001b[0m         \u001b[0mdata\u001b[0m \u001b[0;34m=\u001b[0m \u001b[0mresults\u001b[0m\u001b[0;34m.\u001b[0m\u001b[0mmodel\u001b[0m\u001b[0;34m.\u001b[0m\u001b[0m_data\u001b[0m\u001b[0;34m\u001b[0m\u001b[0m\n\u001b[1;32m     37\u001b[0m         \u001b[0mhow\u001b[0m \u001b[0;34m=\u001b[0m \u001b[0mself\u001b[0m\u001b[0;34m.\u001b[0m\u001b[0m_wrap_attrs\u001b[0m\u001b[0;34m.\u001b[0m\u001b[0mget\u001b[0m\u001b[0;34m(\u001b[0m\u001b[0mattr\u001b[0m\u001b[0;34m)\u001b[0m\u001b[0;34m\u001b[0m\u001b[0m\n",
        "\u001b[0;31mAttributeError\u001b[0m: 'OLSResults' object has no attribute 'outlier_test'"
       ]
      },
      {
       "output_type": "display_data",
       "png": "[encoded data removed]",
       "text": [
        "<matplotlib.figure.Figure at 0x10baffe90>"
       ]
      }
     ],
     "prompt_number": 15
    },
    {
     "cell_type": "code",
     "collapsed": false,
     "input": [
      "influence = regression.get_influence()"
     ],
     "language": "python",
     "metadata": {},
     "outputs": [],
     "prompt_number": 17
    },
    {
     "cell_type": "code",
     "collapsed": false,
     "input": [
      "help(influence)"
     ],
     "language": "python",
     "metadata": {},
     "outputs": [
      {
       "output_type": "stream",
       "stream": "stdout",
       "text": [
        "Help on OLSInfluence in module statsmodels.stats.outliers_influence object:\n",
        "\n",
        "class OLSInfluence(__builtin__.object)\n",
        " |  class to calculate outlier and influence measures for OLS result\n",
        " |  \n",
        " |  Parameters\n",
        " |  ----------\n",
        " |  results : Regression Results instance\n",
        " |      currently assumes the results are from an OLS regression\n",
        " |  \n",
        " |  Notes\n",
        " |  -----\n",
        " |  One part of the results can be calculated without any auxiliary regression\n",
        " |  (some of which have the `_internal` postfix in the name. Other statistics\n",
        " |  require leave-one-observation-out (LOOO) auxiliary regression, and will be\n",
        " |  slower (mainly results with `_external` postfix in the name).\n",
        " |  The auxiliary LOOO regression only the required results are stored.\n",
        " |  \n",
        " |  Using the LOO measures is currently only recommended if the data set\n",
        " |  is not too large. One possible approach for LOOO measures would be to\n",
        " |  identify possible problem observations with the _internal measures, and\n",
        " |  then run the leave-one-observation-out only with observations that are\n",
        " |  possible outliers. (However, this is not yet available in an automized way.)\n",
        " |  \n",
        " |  This should be extended to general least squares.\n",
        " |  \n",
        " |  The leave-one-variable-out (LOVO) auxiliary regression are currently not\n",
        " |  used.\n",
        " |  \n",
        " |  Methods defined here:\n",
        " |  \n",
        " |  __init__(self, results)\n",
        " |  \n",
        " |  get_resid_studentized_external(self, sigma=None)\n",
        " |      calculate studentized residuals\n",
        " |      \n",
        " |      Parameters\n",
        " |      ----------\n",
        " |      sigma : None or float\n",
        " |          estimate of the standard deviation of the residuals. If None, then\n",
        " |          the estimate from the regression results is used.\n",
        " |      \n",
        " |      Returns\n",
        " |      -------\n",
        " |      stzd_resid : ndarray\n",
        " |          studentized residuals\n",
        " |      \n",
        " |      Notes\n",
        " |      -----\n",
        " |      studentized residuals are defined as ::\n",
        " |      \n",
        " |         resid / sigma / np.sqrt(1 - hii)\n",
        " |      \n",
        " |      where resid are the residuals from the regression, sigma is an\n",
        " |      estimate of the standard deviation of the residuals, and hii is the\n",
        " |      diagonal of the hat_matrix.\n",
        " |  \n",
        " |  summary_frame(self)\n",
        " |      Creates a DataFrame with all available influence results.\n",
        " |      \n",
        " |      Returns\n",
        " |      -------\n",
        " |      frame : DataFrame\n",
        " |          A DataFrame with all results.\n",
        " |      \n",
        " |      Notes\n",
        " |      -----\n",
        " |      The resultant DataFrame contains six variables in addition to the\n",
        " |      DFBETAS. These are:\n",
        " |      \n",
        " |      * cooks_d : Cook's Distance defined in `Influence.cooks_distance`\n",
        " |      * standard_resid : Standardized residuals defined in\n",
        " |        `Influence.resid_studentized_internal`\n",
        " |      * hat_diag : The diagonal of the projection, or hat, matrix defined in\n",
        " |        `Influence.hat_matrix_diag`\n",
        " |      * dffits_internal : DFFITS statistics using internally Studentized\n",
        " |        residuals defined in `Influence.dffits_internal`\n",
        " |      * dffits : DFFITS statistics using externally Studentized residuals\n",
        " |        defined in `Influence.dffits`\n",
        " |      * student_resid : Externally Studentized residuals defined in\n",
        " |        `Influence.resid_studentized_external`\n",
        " |  \n",
        " |  summary_table(self, float_fmt='%6.3f')\n",
        " |      create a summary table with all influence and outlier measures\n",
        " |      \n",
        " |      This does currently not distinguish between statistics that can be\n",
        " |      calculated from the original regression results and for which a\n",
        " |      leave-one-observation-out loop is needed\n",
        " |      \n",
        " |      Returns\n",
        " |      -------\n",
        " |      res : SimpleTable instance\n",
        " |         SimpleTable instance with the results, can be printed\n",
        " |      \n",
        " |      Notes\n",
        " |      -----\n",
        " |      This also attaches table_data to the instance.\n",
        " |  \n",
        " |  ----------------------------------------------------------------------\n",
        " |  Data descriptors defined here:\n",
        " |  \n",
        " |  __dict__\n",
        " |      dictionary for instance variables (if defined)\n",
        " |  \n",
        " |  __weakref__\n",
        " |      list of weak references to the object (if defined)\n",
        " |  \n",
        " |  cooks_distance\n",
        " |  \n",
        " |  cov_ratio\n",
        " |  \n",
        " |  det_cov_params_not_obsi\n",
        " |  \n",
        " |  dfbetas\n",
        " |  \n",
        " |  dffits\n",
        " |  \n",
        " |  dffits_internal\n",
        " |  \n",
        " |  ess_press\n",
        " |  \n",
        " |  hat_diag_factor\n",
        " |  \n",
        " |  hat_matrix_diag\n",
        " |  \n",
        " |  influence\n",
        " |  \n",
        " |  params_not_obsi\n",
        " |  \n",
        " |  resid_press\n",
        " |  \n",
        " |  resid_std\n",
        " |  \n",
        " |  resid_studentized_external\n",
        " |  \n",
        " |  resid_studentized_internal\n",
        " |  \n",
        " |  resid_var\n",
        " |  \n",
        " |  sigma2_not_obsi\n",
        "\n"
       ]
      }
     ],
     "prompt_number": 18
    },
    {
     "cell_type": "code",
     "collapsed": false,
     "input": [
      "influence.summary_table()"
     ],
     "language": "python",
     "metadata": {},
     "outputs": [
      {
       "ename": "IndexError",
       "evalue": "index 1 is out of bounds for axis 1 with size 1",
       "output_type": "pyerr",
       "traceback": [
        "\u001b[0;31m---------------------------------------------------------------------------\u001b[0m\n\u001b[0;31mIndexError\u001b[0m                                Traceback (most recent call last)",
        "\u001b[0;32m<ipython-input-19-9cb903fca6ce>\u001b[0m in \u001b[0;36m<module>\u001b[0;34m()\u001b[0m\n\u001b[0;32m----> 1\u001b[0;31m \u001b[0minfluence\u001b[0m\u001b[0;34m.\u001b[0m\u001b[0msummary_table\u001b[0m\u001b[0;34m(\u001b[0m\u001b[0;34m)\u001b[0m\u001b[0;34m\u001b[0m\u001b[0m\n\u001b[0m",
        "\u001b[0;32m/Users/choderaj/Library/Enthought/Canopy_64bit/User/lib/python2.7/site-packages/statsmodels/stats/outliers_influence.py\u001b[0m in \u001b[0;36msummary_table\u001b[0;34m(self, float_fmt)\u001b[0m\n\u001b[1;32m    585\u001b[0m                       \u001b[0;34m(\u001b[0m\u001b[0;34m\"ext.stud.\\nresidual\"\u001b[0m\u001b[0;34m,\u001b[0m \u001b[0mself\u001b[0m\u001b[0;34m.\u001b[0m\u001b[0mresid_studentized_external\u001b[0m\u001b[0;34m)\u001b[0m\u001b[0;34m,\u001b[0m\u001b[0;34m\u001b[0m\u001b[0m\n\u001b[1;32m    586\u001b[0m                       \u001b[0;34m(\u001b[0m\u001b[0;34m'dffits'\u001b[0m\u001b[0;34m,\u001b[0m \u001b[0mself\u001b[0m\u001b[0;34m.\u001b[0m\u001b[0mdffits\u001b[0m\u001b[0;34m[\u001b[0m\u001b[0;36m0\u001b[0m\u001b[0;34m]\u001b[0m\u001b[0;34m)\u001b[0m\u001b[0;34m,\u001b[0m\u001b[0;34m\u001b[0m\u001b[0m\n\u001b[0;32m--> 587\u001b[0;31m                       \u001b[0;34m(\u001b[0m\u001b[0;34m'dfbeta\\nslope'\u001b[0m\u001b[0;34m,\u001b[0m \u001b[0mself\u001b[0m\u001b[0;34m.\u001b[0m\u001b[0mdfbetas\u001b[0m\u001b[0;34m[\u001b[0m\u001b[0;34m:\u001b[0m\u001b[0;34m,\u001b[0m\u001b[0;36m1\u001b[0m\u001b[0;34m]\u001b[0m\u001b[0;34m)\u001b[0m \u001b[0;31m#skip needs to partially unravel\u001b[0m\u001b[0;34m\u001b[0m\u001b[0m\n\u001b[0m\u001b[1;32m    588\u001b[0m                       ]\n\u001b[1;32m    589\u001b[0m         \u001b[0mcolnames\u001b[0m\u001b[0;34m,\u001b[0m \u001b[0mdata\u001b[0m \u001b[0;34m=\u001b[0m \u001b[0mzip\u001b[0m\u001b[0;34m(\u001b[0m\u001b[0;34m*\u001b[0m\u001b[0mtable_raw\u001b[0m\u001b[0;34m)\u001b[0m \u001b[0;31m#unzip\u001b[0m\u001b[0;34m\u001b[0m\u001b[0m\n",
        "\u001b[0;31mIndexError\u001b[0m: index 1 is out of bounds for axis 1 with size 1"
       ]
      }
     ],
     "prompt_number": 19
    },
    {
     "cell_type": "code",
     "collapsed": false,
     "input": [
      "frame = influence.summary_frame()\n",
      "print frame"
     ],
     "language": "python",
     "metadata": {},
     "outputs": [
      {
       "output_type": "stream",
       "stream": "stdout",
       "text": [
        "       dfb_x1       cooks_d    dffits  dffits_internal  hat_diag  \\\n",
        "0   93.453859  0.000000e+00  0.000000         0.000000  0.000000   \n",
        "1   93.453859  2.077791e-08  0.000179         0.000144  0.000111   \n",
        "2   93.453859  3.326674e-07  0.000717         0.000577  0.000443   \n",
        "3   93.453859  1.685994e-06  0.001614         0.001298  0.000996   \n",
        "4   93.453859  5.336846e-06  0.002872         0.002310  0.001770   \n",
        "5   93.453859  1.305544e-05  0.004492         0.003613  0.002766   \n",
        "6         inf  1.697253e+00      -inf        -1.302787  0.053546   \n",
        "7   93.453859  2.713795e-05  0.006477         0.005209  0.003983   \n",
        "8   93.453859  5.042192e-05  0.008829         0.007101  0.005421   \n",
        "9   93.453859  8.630533e-05  0.011551         0.009290  0.007080   \n",
        "10  93.453859  1.387697e-04  0.014647         0.011780  0.008961   \n",
        "11  93.453859  2.124070e-04  0.018121         0.014574  0.011063   \n",
        "12  93.453859  3.124514e-04  0.021978         0.017676  0.013386   \n",
        "13  93.453859  4.448153e-04  0.026223         0.021091  0.015931   \n",
        "14  93.453859  6.161306e-04  0.030862         0.024822  0.018697   \n",
        "15  93.453859  8.337954e-04  0.035902         0.028876  0.021684   \n",
        "16  93.453859  1.106027e-03  0.041349         0.033257  0.024892   \n",
        "17  93.453859  1.441919e-03  0.047213         0.037973  0.028322   \n",
        "18  93.453859  1.851511e-03  0.053500         0.043029  0.031973   \n",
        "19  93.453859  2.345859e-03  0.060220         0.048434  0.035845   \n",
        "20  93.453859  2.937120e-03  0.067383         0.054195  0.039938   \n",
        "21  93.453859  3.638645e-03  0.074999         0.060321  0.044253   \n",
        "22  93.453859  4.465076e-03  0.083081         0.066821  0.048789   \n",
        "23  93.453859  5.432470e-03  0.091640         0.073705  0.053546   \n",
        "24  93.453859  6.558414e-03  0.100690         0.080984  0.058524   \n",
        "25  93.453859  7.862178e-03  0.110245         0.088669  0.063724   \n",
        "26  93.453859  9.364867e-03  0.120320         0.096772  0.069145   \n",
        "27  93.453859  1.108960e-02  0.130932         0.105307  0.074787   \n",
        "28  93.453859  1.306170e-02  0.142098         0.114288  0.080651   \n",
        "29  93.453859  1.530892e-02  0.153837         0.123729  0.086735   \n",
        "30  93.453859  1.786170e-02  0.166168         0.133648  0.093041   \n",
        "\n",
        "    standard_resid  student_resid  \n",
        "0         0.000000       0.000000  \n",
        "1         0.013704       0.017038  \n",
        "2         0.027412       0.034082  \n",
        "3         0.041129       0.051137  \n",
        "4         0.054860       0.068210  \n",
        "5         0.068610       0.085304  \n",
        "6        -5.477226           -inf  \n",
        "7         0.082382       0.102428  \n",
        "8         0.096181       0.119586  \n",
        "9         0.110014       0.136783  \n",
        "10        0.123883       0.154027  \n",
        "11        0.137794       0.171323  \n",
        "12        0.151751       0.188677  \n",
        "13        0.165761       0.206096  \n",
        "14        0.179827       0.223585  \n",
        "15        0.193955       0.241151  \n",
        "16        0.208151       0.258801  \n",
        "17        0.222419       0.276541  \n",
        "18        0.236765       0.294378  \n",
        "19        0.251196       0.312320  \n",
        "20        0.265716       0.330373  \n",
        "21        0.280331       0.348545  \n",
        "22        0.295049       0.366844  \n",
        "23        0.309875       0.385277  \n",
        "24        0.324815       0.403853  \n",
        "25        0.339877       0.422581  \n",
        "26        0.355068       0.441468  \n",
        "27        0.370395       0.460525  \n",
        "28        0.385866       0.479760  \n",
        "29        0.401488       0.499183  \n",
        "30        0.417270       0.518805  \n"
       ]
      }
     ],
     "prompt_number": 24
    },
    {
     "cell_type": "code",
     "collapsed": false,
     "input": [],
     "language": "python",
     "metadata": {},
     "outputs": []
    }
   ],
   "metadata": {}
  }
 ]
}