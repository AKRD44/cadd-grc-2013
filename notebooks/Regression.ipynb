{
 "metadata": {
  "name": "Regression"
 },
 "nbformat": 3,
 "nbformat_minor": 0,
 "worksheets": [
  {
   "cells": [
    {
     "cell_type": "markdown",
     "metadata": {},
     "source": [
      "Suppose we have some data that we believe has a linear trend in some property, such as activity."
     ]
    },
    {
     "cell_type": "code",
     "collapsed": false,
     "input": [
      "# Generate a dataset with some linear correlation and random error.\n",
      "def dataset():\n",
      "    from numpy import random\n",
      "    nsamples = 100\n",
      "    slope = 2.\n",
      "    intercept = 1.\n",
      "    x = random.standard_normal([nsamples])\n",
      "    noise = 0.8 * random.standard_normal([nsamples])\n",
      "    y = slope * x + intercept + noise\n",
      "    return (x, y)"
     ],
     "language": "python",
     "metadata": {},
     "outputs": [],
     "prompt_number": 1
    },
    {
     "cell_type": "code",
     "collapsed": false,
     "input": [
      "from pylab import *\n",
      "(x, y) = dataset()\n",
      "plot(x, y, 'k.');\n",
      "xlabel('x'); ylabel('y');"
     ],
     "language": "python",
     "metadata": {},
     "outputs": [
      {
       "output_type": "display_data",
       "png": "[encoded data removed]",
       "text": [
        "<matplotlib.figure.Figure at 0x106d08bd0>"
       ]
      }
     ],
     "prompt_number": 2
    },
    {
     "cell_type": "markdown",
     "metadata": {},
     "source": [
      "Finding the best linear model to describe the data if we do not have error bars or the data error is uniform (not always a good assumption!) is straightforward.  `scipy` has tools for this, but we write out the expression for clarity."
     ]
    },
    {
     "cell_type": "code",
     "collapsed": false,
     "input": [
      "# regress using y' = alpha + beta * x\n",
      "from numpy import mean, var, cov\n",
      "beta = cov(x,y)[0,1] / var(x)\n",
      "alpha = mean(y) - beta * mean(x)\n",
      "yprime = alpha + beta * x"
     ],
     "language": "python",
     "metadata": {},
     "outputs": [],
     "prompt_number": 3
    },
    {
     "cell_type": "code",
     "collapsed": false,
     "input": [
      "plot(x, y, 'k.', x, yprime, 'r-');"
     ],
     "language": "python",
     "metadata": {},
     "outputs": [
      {
       "output_type": "display_data",
       "png": "[encoded data removed]",
       "text": [
        "<matplotlib.figure.Figure at 0x106c18e10>"
       ]
      }
     ],
     "prompt_number": 4
    },
    {
     "cell_type": "markdown",
     "metadata": {},
     "source": [
      "We can compute the *coefficient of determination* ($R^2$), several different ways:"
     ]
    },
    {
     "cell_type": "code",
     "collapsed": false,
     "input": [
      "# Compute R^2 from square of sample correlation coefficient\n",
      "from numpy import std\n",
      "r_xy = beta / (std(y) / std(x)) # sample correlation coefficient\n",
      "R2 = r_xy**2\n",
      "print \"R^2 from square of sample correlation coefficient = %.3f\" % R2"
     ],
     "language": "python",
     "metadata": {},
     "outputs": [
      {
       "output_type": "stream",
       "stream": "stdout",
       "text": [
        "R^2 from square of sample correlation coefficient = 0.862\n"
       ]
      }
     ],
     "prompt_number": 5
    },
    {
     "cell_type": "code",
     "collapsed": false,
     "input": [
      "# Compute R^2 from squared sum of residuals\n",
      "from numpy import sum, mean\n",
      "R2 = 1 - sum((yprime-y)**2) / sum((y-mean(y))**2)\n",
      "print \"R^2 from residuals = %.3f\" % R2"
     ],
     "language": "python",
     "metadata": {},
     "outputs": [
      {
       "output_type": "stream",
       "stream": "stdout",
       "text": [
        "R^2 from residuals = 0.845\n"
       ]
      }
     ],
     "prompt_number": 6
    },
    {
     "cell_type": "code",
     "collapsed": false,
     "input": [
      "# Squared sum of residuals is also proportional to the sample variance.\n",
      "R2 = 1 - (yprime-y).var() / (y-mean(y)).var()\n",
      "print \"R^2 from residuals = %.3f\" % R2"
     ],
     "language": "python",
     "metadata": {},
     "outputs": [
      {
       "output_type": "stream",
       "stream": "stdout",
       "text": [
        "R^2 from residuals = 0.845\n"
       ]
      }
     ],
     "prompt_number": 7
    },
    {
     "cell_type": "markdown",
     "metadata": {},
     "source": [
      "Recall that we can easily estimate the uncertainty in R^2 by bootstrapping."
     ]
    },
    {
     "cell_type": "code",
     "collapsed": false,
     "input": [
      "# We estimate the uncertainty in R^2 by bootstrapping\n",
      "from numpy import arange\n",
      "from numpy.random import choice\n",
      "ntrials = 1000\n",
      "nsamples = x.size\n",
      "R2_n = numpy.zeros([ntrials], numpy.float64)\n",
      "for trial in range(ntrials):\n",
      "    # Generate sample with replacement.\n",
      "    indices = choice(arange(nsamples), [nsamples], replace=True)\n",
      "    x_sample = x[indices]\n",
      "    y_sample = y[indices]\n",
      "    # Perform regression on sample.\n",
      "    beta_sample = cov(x_sample,y_sample)[0,1] / var(x_sample)\n",
      "    alpha_sample = mean(y_sample) - beta_sample * mean(x_sample)\n",
      "    yprime_sample = alpha_sample + beta_sample * x_sample\n",
      "    # Compute R^2 for sample.\n",
      "    R2_n[trial] = 1 - (yprime_sample-y_sample).var() / (y_sample-mean(y_sample)).var()\n",
      "# Compute uncertainty in R^2.\n",
      "dR2 = R2_n.std()\n",
      "print \"R2 = %.5f +- %.5f\" % (R2, dR2)"
     ],
     "language": "python",
     "metadata": {},
     "outputs": [
      {
       "output_type": "stream",
       "stream": "stdout",
       "text": [
        "R2 = 0.84500 +- 0.02816\n"
       ]
      }
     ],
     "prompt_number": 8
    },
    {
     "cell_type": "code",
     "collapsed": false,
     "input": [],
     "language": "python",
     "metadata": {},
     "outputs": [],
     "prompt_number": 8
    },
    {
     "cell_type": "code",
     "collapsed": false,
     "input": [],
     "language": "python",
     "metadata": {},
     "outputs": [],
     "prompt_number": 8
    }
   ],
   "metadata": {}
  }
 ]
}