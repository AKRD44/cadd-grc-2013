{
 "metadata": {
  "name": "Outliers"
 },
 "nbformat": 3,
 "nbformat_minor": 0,
 "worksheets": [
  {
   "cells": [
    {
     "cell_type": "heading",
     "level": 1,
     "metadata": {},
     "source": [
      "Outlier detection"
     ]
    },
    {
     "cell_type": "heading",
     "level": 2,
     "metadata": {},
     "source": [
      "Outlier detection in empty assay plates exposed to laboratory air"
     ]
    },
    {
     "cell_type": "markdown",
     "metadata": {},
     "source": [
      "A recent [paper](http://dx.doi.org/10.1177/1087057113481621) discovered a surprising source of spurious high fluorescence signals that could have been mistaken as hits in a fluorescence-based HTS assay.  We make use of the Grubbs' test for outlier detection to show there are statistically significant outliers in the dataset."
     ]
    },
    {
     "cell_type": "code",
     "collapsed": false,
     "input": [
      "# Data from Busch et al. Does your lab coat fit to your assay? J Biomol Screen 18:744, 2013.\n",
      "clean_microplate_rfu_text = \"53 62 63 70 77 62 61 58 61 69 70 53 63 82 60 82 63 50 56 61 59 90 66 63 53 40 60 56 70 57 64 64 57 59 73 70 63 59 65 60 67 57 65 46 75 82 83 57 57 56 68 74 66 77 53 44 69 67 60 66 73 67 63 51 62 78 73 44 56 59 62 48 68 47 60 74 75 65 76 60 62 54 65 67 66 58 75 58 54 71 61 61 79 60 74 62 62 55 55 67 66 65 51 51 48 64 82 61 86 78 62 68 59 68 56 55 74 80 61 60 69 64 72 64 63 62 55 53 66 64 89 71 59 65 67 52 67 58 59 60 70 49 74 63 52 60 59 62 71 86 59 55 60 61 76 73 73 68 62 63 71 87 74 66 56 73 82 79 58 72 66 77 86 77 58 64 63 61 73 57 58 57 61 59 55 60 80 52 47 51 68 60 78 75 52 58 87 65 62 66 71 56 66 55 46 57 73 54 80 84 80 54 63 76 58 65 68 70 62 57 50 80 70 68 44 51 65 59 71 77 69 71 68 77 71 64 61 63 44 92 62 63 64 76 57 75 74 55 65 69 62 53 51 72 50 69 65 59 55 65 74 70 69 71 58 65 62 57 54 86 71 61 64 69 63 64 63 50 66 52 44 65 60 60 59 62 64 68 54 48 53 47 59 63 55 55 55 68 53 51 50 73 65 56 80 65 80 63 79 82 57 51 55 60 56 56 61 81 68 60 62 64 59 66 48 75 64 42 68 62 63 55 80 76 60 50 42 67 74 65 53 59 62 71 67 67 63 65 58 48 57 60 53 50 69 67 43 40 46 35 56 54 57 71 60 64 80 76 49 72 62 66 62 60 87 64 72 63 59 67 61 56 58 55\"\n",
      "exposed_microplate_rfu_text = \"53 81 182 58 61 113 69 56 54 63 58 704 66 53 51 60 87 79 87 83 57 56 87 108 63 60 71 63 60 67 69 48 52 38 62 81 54 63 56 57 78 108 64 61 66 68 63 58 69 89 50 67 73 59 56 51 64 51 72 58 269 81 50 59 64 59 54 70 94 55 49 67 66 68 42 91 71 82 63 76 58 50 63 68 60 65 47 60 82 52 75 67 68 61 73 69\"\n",
      "\n",
      "def convert_text_to_numeric(text):\n",
      "    data = [ float(element) for element in text.split() ]\n",
      "    data = numpy.array(data)\n",
      "    return data\n",
      "\n",
      "clean_microplate_rfu = convert_text_to_numeric(clean_microplate_rfu_text)\n",
      "exposed_microplate_rfu = convert_text_to_numeric(exposed_microplate_rfu_text)"
     ],
     "language": "python",
     "metadata": {},
     "outputs": [],
     "prompt_number": 1
    },
    {
     "cell_type": "markdown",
     "metadata": {},
     "source": [
      "The Gribbs' outlier test assumes normality, and tests whether one or more data points may be an outlier at the proposed significance level.  This scheme can be used to sequentially identify (and remove, if desired) outliers in a dataset."
     ]
    },
    {
     "cell_type": "code",
     "collapsed": false,
     "input": [
      "def Grubbs_outlier_test(y_i, alpha=0.95):\n",
      "    \"\"\"\n",
      "    Perform Grubbs' outlier test.\n",
      "    \n",
      "    ARGUMENTS\n",
      "    y_i (list or numpy array) - dataset\n",
      "    alpha (float) - significance cutoff for test\n",
      "\n",
      "    RETURNS\n",
      "    G_i (list) - Grubbs G statistic for each member of the dataset\n",
      "    Gtest (float) - rejection cutoff; hypothesis that no outliers exist if G_i.max() > Gtest\n",
      "    no_outliers (bool) - boolean indicating whether there are no outliers at specified significance level\n",
      "    index (int) - integer index of outlier with maximum G_i    \n",
      "    \"\"\"\n",
      "    s = y_i.std()\n",
      "    G_i = numpy.abs(y_i - y_i.mean()) / s\n",
      "    N = y_i.size\n",
      "    from scipy import stats\n",
      "    t = stats.t.isf(1 - alpha/(2*N), N-2) # Upper critical value of the t-distribution with N \u2212 2 degrees of freedom and a significance level of \u03b1/(2N)\n",
      "    Gtest = (N-1)/numpy.sqrt(N) * numpy.sqrt(t**2 / (N-2+t**2))    \n",
      "    G = G_i.max()\n",
      "    index = G_i.argmax()\n",
      "    no_outliers = (G > Gtest)\n",
      "    return [G_i, Gtest, no_outliers, index]"
     ],
     "language": "python",
     "metadata": {},
     "outputs": [],
     "prompt_number": 2
    },
    {
     "cell_type": "code",
     "collapsed": false,
     "input": [
      "# We will also plot the empirical cumulative distribution function (CDF).\n",
      "def plot_empirical_cdf(data):\n",
      "    sorted = numpy.sort(data)\n",
      "    clf();\n",
      "    plot(sorted, numpy.arange( len(sorted)*1.0)/len(sorted) );"
     ],
     "language": "python",
     "metadata": {},
     "outputs": [],
     "prompt_number": 3
    },
    {
     "cell_type": "markdown",
     "metadata": {},
     "source": [
      "We first test the data read for a clean microplate that has been freshly removed from its packaging."
     ]
    },
    {
     "cell_type": "code",
     "collapsed": false,
     "input": [
      "plot_empirical_cdf(clean_microplate_rfu);\n",
      "[G_i, Gtest, no_outliers, index] = Grubbs_outlier_test(clean_microplate_rfu)\n",
      "title(\"G = %.3f | Gtest = %.3f\" % (G_i.max(), Gtest));"
     ],
     "language": "python",
     "metadata": {},
     "outputs": [
      {
       "output_type": "display_data",
       "png": "[encoded data removed]",
       "text": [
        "<matplotlib.figure.Figure at 0x10596d850>"
       ]
      }
     ],
     "prompt_number": 4
    },
    {
     "cell_type": "markdown",
     "metadata": {},
     "source": [
      "Next, we test a plate that has been exposed to laboratory air for two minutes before reading fluorescence."
     ]
    },
    {
     "cell_type": "code",
     "collapsed": false,
     "input": [
      "plot_empirical_cdf(exposed_microplate_rfu);\n",
      "[G_i, Gtest, no_outliers, index] = Grubbs_outlier_test(exposed_microplate_rfu)\n",
      "title(\"G = %.3f | Gtest = %.3f\" % (G_i.max(), Gtest));"
     ],
     "language": "python",
     "metadata": {},
     "outputs": [
      {
       "output_type": "display_data",
       "png": "[encoded data removed]",
       "text": [
        "<matplotlib.figure.Figure at 0x10596d2d0>"
       ]
      }
     ],
     "prompt_number": 5
    },
    {
     "cell_type": "heading",
     "level": 2,
     "metadata": {},
     "source": [
      "References and further reading"
     ]
    },
    {
     "cell_type": "code",
     "collapsed": false,
     "input": [],
     "language": "python",
     "metadata": {},
     "outputs": []
    }
   ],
   "metadata": {}
  }
 ]
}